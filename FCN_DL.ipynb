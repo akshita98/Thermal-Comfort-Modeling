{
  "nbformat": 4,
  "nbformat_minor": 0,
  "metadata": {
    "colab": {
      "provenance": []
    },
    "kernelspec": {
      "name": "python3",
      "display_name": "Python 3"
    },
    "language_info": {
      "name": "python"
    },
    "accelerator": "GPU",
    "gpuClass": "standard"
  },
  "cells": [
    {
      "cell_type": "code",
      "source": [
        "from google.colab import drive\n",
        "drive.mount('/content/drive')"
      ],
      "metadata": {
        "colab": {
          "base_uri": "https://localhost:8080/"
        },
        "id": "vcRemJAz8tqr",
        "outputId": "59decb96-5d67-43de-9fff-17b74bda2f32"
      },
      "execution_count": null,
      "outputs": [
        {
          "output_type": "stream",
          "name": "stdout",
          "text": [
            "Mounted at /content/drive\n"
          ]
        }
      ]
    },
    {
      "cell_type": "code",
      "execution_count": null,
      "metadata": {
        "id": "9IldkIeaK-gE"
      },
      "outputs": [],
      "source": [
        "import pandas as pd\n",
        "import numpy as np"
      ]
    },
    {
      "cell_type": "code",
      "source": [
        "# read the sensor dataset\n",
        "df_skin = pd.read_csv(\"/content/drive/Shareddrives/DL Project/anonymous data_master/master_skin_T.csv\", sep = \"\\t\")"
      ],
      "metadata": {
        "id": "4hb3zgh5LdIV"
      },
      "execution_count": null,
      "outputs": []
    },
    {
      "cell_type": "code",
      "source": [
        "df_hr = pd.read_csv(\"/content/drive/Shareddrives/DL Project/anonymous data_master/HeartRateConsolidated.csv\", sep = \",\")"
      ],
      "metadata": {
        "id": "FXzYw2djL4_u"
      },
      "execution_count": null,
      "outputs": []
    },
    {
      "cell_type": "code",
      "source": [
        "df_acc= pd.read_csv(\"/content/drive/Shareddrives/DL Project/anonymous data_master/master_activity.csv\", sep = \"\\t\")"
      ],
      "metadata": {
        "id": "ab0quTduMHrk"
      },
      "execution_count": null,
      "outputs": []
    },
    {
      "cell_type": "code",
      "source": [
        "df_wea = pd.read_csv(\"/content/drive/Shareddrives/DL Project/anonymous data_master/master_weather.csv\", sep = \",\")"
      ],
      "metadata": {
        "id": "qWVgV_OkMP6I"
      },
      "execution_count": null,
      "outputs": []
    },
    {
      "cell_type": "code",
      "source": [
        "# read the survey data\n",
        "df_com = pd.read_csv(\"/content/drive/Shareddrives/DL Project/anonymous data_master/comfort_survey.csv\", sep = \",\")\n",
        "df_back = pd.read_csv(\"/content/drive/Shareddrives/DL Project/anonymous data_master/background_survey.csv\", sep = \",\")"
      ],
      "metadata": {
        "id": "ODg-64EWMdEQ"
      },
      "execution_count": null,
      "outputs": []
    },
    {
      "cell_type": "markdown",
      "source": [
        "**Occupant 1**"
      ],
      "metadata": {
        "id": "VJHv73BBMtH9"
      }
    },
    {
      "cell_type": "code",
      "source": [
        "df_skin = df_skin.rename(columns={'Name ID': 'ID'})\n",
        "df_skin = df_skin.replace('ID_14', 14)"
      ],
      "metadata": {
        "id": "UQSNPyvfMqRq"
      },
      "execution_count": null,
      "outputs": []
    },
    {
      "cell_type": "code",
      "source": [
        "df_skin_1 = df_skin.query('ID == 14')\n",
        "df_skin_1"
      ],
      "metadata": {
        "colab": {
          "base_uri": "https://localhost:8080/",
          "height": 419
        },
        "id": "r5FHIr8VM4Ot",
        "outputId": "7c5f612c-1251-48fe-eb60-14e1e0de405b"
      },
      "execution_count": null,
      "outputs": [
        {
          "output_type": "execute_result",
          "data": {
            "text/plain": [
              "                        Time Position  Value        Serial No.  ID  \\\n",
              "949408   2017-05-13 09:57:01    Ankle  24.89          3.50E+53  14   \n",
              "949409   2017-05-13 09:58:01    Ankle  26.01          3.50E+53  14   \n",
              "949410   2017-05-13 09:59:01    Ankle  28.57          3.50E+53  14   \n",
              "949411   2017-05-13 10:00:01    Ankle  29.70          3.50E+53  14   \n",
              "949412   2017-05-13 10:01:01    Ankle  30.26          3.50E+53  14   \n",
              "...                      ...      ...    ...               ...  ..   \n",
              "1024865  2017-06-02 13:38:01    Wrist  23.83  84000000508C3841  14   \n",
              "1024866  2017-06-02 13:39:01    Wrist  23.83  84000000508C3841  14   \n",
              "1024867  2017-06-02 13:40:01    Wrist  23.83  84000000508C3841  14   \n",
              "1024868  2017-06-02 13:41:01    Wrist  23.83  84000000508C3841  14   \n",
              "1024869  2017-06-02 13:42:01    Wrist  23.83  84000000508C3841  14   \n",
              "\n",
              "         Calibrated Value  \n",
              "949408              24.29  \n",
              "949409              25.41  \n",
              "949410              27.97  \n",
              "949411              29.09  \n",
              "949412              29.66  \n",
              "...                   ...  \n",
              "1024865             23.83  \n",
              "1024866             23.83  \n",
              "1024867             23.83  \n",
              "1024868             23.83  \n",
              "1024869             23.83  \n",
              "\n",
              "[75462 rows x 6 columns]"
            ],
            "text/html": [
              "\n",
              "  <div id=\"df-6b38e8f5-8580-4672-9def-9676e3784ac5\">\n",
              "    <div class=\"colab-df-container\">\n",
              "      <div>\n",
              "<style scoped>\n",
              "    .dataframe tbody tr th:only-of-type {\n",
              "        vertical-align: middle;\n",
              "    }\n",
              "\n",
              "    .dataframe tbody tr th {\n",
              "        vertical-align: top;\n",
              "    }\n",
              "\n",
              "    .dataframe thead th {\n",
              "        text-align: right;\n",
              "    }\n",
              "</style>\n",
              "<table border=\"1\" class=\"dataframe\">\n",
              "  <thead>\n",
              "    <tr style=\"text-align: right;\">\n",
              "      <th></th>\n",
              "      <th>Time</th>\n",
              "      <th>Position</th>\n",
              "      <th>Value</th>\n",
              "      <th>Serial No.</th>\n",
              "      <th>ID</th>\n",
              "      <th>Calibrated Value</th>\n",
              "    </tr>\n",
              "  </thead>\n",
              "  <tbody>\n",
              "    <tr>\n",
              "      <th>949408</th>\n",
              "      <td>2017-05-13 09:57:01</td>\n",
              "      <td>Ankle</td>\n",
              "      <td>24.89</td>\n",
              "      <td>3.50E+53</td>\n",
              "      <td>14</td>\n",
              "      <td>24.29</td>\n",
              "    </tr>\n",
              "    <tr>\n",
              "      <th>949409</th>\n",
              "      <td>2017-05-13 09:58:01</td>\n",
              "      <td>Ankle</td>\n",
              "      <td>26.01</td>\n",
              "      <td>3.50E+53</td>\n",
              "      <td>14</td>\n",
              "      <td>25.41</td>\n",
              "    </tr>\n",
              "    <tr>\n",
              "      <th>949410</th>\n",
              "      <td>2017-05-13 09:59:01</td>\n",
              "      <td>Ankle</td>\n",
              "      <td>28.57</td>\n",
              "      <td>3.50E+53</td>\n",
              "      <td>14</td>\n",
              "      <td>27.97</td>\n",
              "    </tr>\n",
              "    <tr>\n",
              "      <th>949411</th>\n",
              "      <td>2017-05-13 10:00:01</td>\n",
              "      <td>Ankle</td>\n",
              "      <td>29.70</td>\n",
              "      <td>3.50E+53</td>\n",
              "      <td>14</td>\n",
              "      <td>29.09</td>\n",
              "    </tr>\n",
              "    <tr>\n",
              "      <th>949412</th>\n",
              "      <td>2017-05-13 10:01:01</td>\n",
              "      <td>Ankle</td>\n",
              "      <td>30.26</td>\n",
              "      <td>3.50E+53</td>\n",
              "      <td>14</td>\n",
              "      <td>29.66</td>\n",
              "    </tr>\n",
              "    <tr>\n",
              "      <th>...</th>\n",
              "      <td>...</td>\n",
              "      <td>...</td>\n",
              "      <td>...</td>\n",
              "      <td>...</td>\n",
              "      <td>...</td>\n",
              "      <td>...</td>\n",
              "    </tr>\n",
              "    <tr>\n",
              "      <th>1024865</th>\n",
              "      <td>2017-06-02 13:38:01</td>\n",
              "      <td>Wrist</td>\n",
              "      <td>23.83</td>\n",
              "      <td>84000000508C3841</td>\n",
              "      <td>14</td>\n",
              "      <td>23.83</td>\n",
              "    </tr>\n",
              "    <tr>\n",
              "      <th>1024866</th>\n",
              "      <td>2017-06-02 13:39:01</td>\n",
              "      <td>Wrist</td>\n",
              "      <td>23.83</td>\n",
              "      <td>84000000508C3841</td>\n",
              "      <td>14</td>\n",
              "      <td>23.83</td>\n",
              "    </tr>\n",
              "    <tr>\n",
              "      <th>1024867</th>\n",
              "      <td>2017-06-02 13:40:01</td>\n",
              "      <td>Wrist</td>\n",
              "      <td>23.83</td>\n",
              "      <td>84000000508C3841</td>\n",
              "      <td>14</td>\n",
              "      <td>23.83</td>\n",
              "    </tr>\n",
              "    <tr>\n",
              "      <th>1024868</th>\n",
              "      <td>2017-06-02 13:41:01</td>\n",
              "      <td>Wrist</td>\n",
              "      <td>23.83</td>\n",
              "      <td>84000000508C3841</td>\n",
              "      <td>14</td>\n",
              "      <td>23.83</td>\n",
              "    </tr>\n",
              "    <tr>\n",
              "      <th>1024869</th>\n",
              "      <td>2017-06-02 13:42:01</td>\n",
              "      <td>Wrist</td>\n",
              "      <td>23.83</td>\n",
              "      <td>84000000508C3841</td>\n",
              "      <td>14</td>\n",
              "      <td>23.83</td>\n",
              "    </tr>\n",
              "  </tbody>\n",
              "</table>\n",
              "<p>75462 rows × 6 columns</p>\n",
              "</div>\n",
              "      <button class=\"colab-df-convert\" onclick=\"convertToInteractive('df-6b38e8f5-8580-4672-9def-9676e3784ac5')\"\n",
              "              title=\"Convert this dataframe to an interactive table.\"\n",
              "              style=\"display:none;\">\n",
              "        \n",
              "  <svg xmlns=\"http://www.w3.org/2000/svg\" height=\"24px\"viewBox=\"0 0 24 24\"\n",
              "       width=\"24px\">\n",
              "    <path d=\"M0 0h24v24H0V0z\" fill=\"none\"/>\n",
              "    <path d=\"M18.56 5.44l.94 2.06.94-2.06 2.06-.94-2.06-.94-.94-2.06-.94 2.06-2.06.94zm-11 1L8.5 8.5l.94-2.06 2.06-.94-2.06-.94L8.5 2.5l-.94 2.06-2.06.94zm10 10l.94 2.06.94-2.06 2.06-.94-2.06-.94-.94-2.06-.94 2.06-2.06.94z\"/><path d=\"M17.41 7.96l-1.37-1.37c-.4-.4-.92-.59-1.43-.59-.52 0-1.04.2-1.43.59L10.3 9.45l-7.72 7.72c-.78.78-.78 2.05 0 2.83L4 21.41c.39.39.9.59 1.41.59.51 0 1.02-.2 1.41-.59l7.78-7.78 2.81-2.81c.8-.78.8-2.07 0-2.86zM5.41 20L4 18.59l7.72-7.72 1.47 1.35L5.41 20z\"/>\n",
              "  </svg>\n",
              "      </button>\n",
              "      \n",
              "  <style>\n",
              "    .colab-df-container {\n",
              "      display:flex;\n",
              "      flex-wrap:wrap;\n",
              "      gap: 12px;\n",
              "    }\n",
              "\n",
              "    .colab-df-convert {\n",
              "      background-color: #E8F0FE;\n",
              "      border: none;\n",
              "      border-radius: 50%;\n",
              "      cursor: pointer;\n",
              "      display: none;\n",
              "      fill: #1967D2;\n",
              "      height: 32px;\n",
              "      padding: 0 0 0 0;\n",
              "      width: 32px;\n",
              "    }\n",
              "\n",
              "    .colab-df-convert:hover {\n",
              "      background-color: #E2EBFA;\n",
              "      box-shadow: 0px 1px 2px rgba(60, 64, 67, 0.3), 0px 1px 3px 1px rgba(60, 64, 67, 0.15);\n",
              "      fill: #174EA6;\n",
              "    }\n",
              "\n",
              "    [theme=dark] .colab-df-convert {\n",
              "      background-color: #3B4455;\n",
              "      fill: #D2E3FC;\n",
              "    }\n",
              "\n",
              "    [theme=dark] .colab-df-convert:hover {\n",
              "      background-color: #434B5C;\n",
              "      box-shadow: 0px 1px 3px 1px rgba(0, 0, 0, 0.15);\n",
              "      filter: drop-shadow(0px 1px 2px rgba(0, 0, 0, 0.3));\n",
              "      fill: #FFFFFF;\n",
              "    }\n",
              "  </style>\n",
              "\n",
              "      <script>\n",
              "        const buttonEl =\n",
              "          document.querySelector('#df-6b38e8f5-8580-4672-9def-9676e3784ac5 button.colab-df-convert');\n",
              "        buttonEl.style.display =\n",
              "          google.colab.kernel.accessAllowed ? 'block' : 'none';\n",
              "\n",
              "        async function convertToInteractive(key) {\n",
              "          const element = document.querySelector('#df-6b38e8f5-8580-4672-9def-9676e3784ac5');\n",
              "          const dataTable =\n",
              "            await google.colab.kernel.invokeFunction('convertToInteractive',\n",
              "                                                     [key], {});\n",
              "          if (!dataTable) return;\n",
              "\n",
              "          const docLinkHtml = 'Like what you see? Visit the ' +\n",
              "            '<a target=\"_blank\" href=https://colab.research.google.com/notebooks/data_table.ipynb>data table notebook</a>'\n",
              "            + ' to learn more about interactive tables.';\n",
              "          element.innerHTML = '';\n",
              "          dataTable['output_type'] = 'display_data';\n",
              "          await google.colab.output.renderOutput(dataTable, element);\n",
              "          const docLink = document.createElement('div');\n",
              "          docLink.innerHTML = docLinkHtml;\n",
              "          element.appendChild(docLink);\n",
              "        }\n",
              "      </script>\n",
              "    </div>\n",
              "  </div>\n",
              "  "
            ]
          },
          "metadata": {},
          "execution_count": 94
        }
      ]
    },
    {
      "cell_type": "code",
      "source": [
        "df_skin_1.isna().sum()"
      ],
      "metadata": {
        "colab": {
          "base_uri": "https://localhost:8080/"
        },
        "id": "QOXQ7A2-OXvN",
        "outputId": "a5e53a84-37cf-40b4-ff88-34cc0bcf6672"
      },
      "execution_count": null,
      "outputs": [
        {
          "output_type": "execute_result",
          "data": {
            "text/plain": [
              "Time                0\n",
              "Position            0\n",
              "Value               0\n",
              "Serial No.          0\n",
              "ID                  0\n",
              "Calibrated Value    0\n",
              "dtype: int64"
            ]
          },
          "metadata": {},
          "execution_count": 95
        }
      ]
    },
    {
      "cell_type": "code",
      "source": [
        "df_skin_1['Calibrated Value'].plot()"
      ],
      "metadata": {
        "colab": {
          "base_uri": "https://localhost:8080/",
          "height": 465
        },
        "id": "W0tYrRD7SbLT",
        "outputId": "17229181-ebcc-4c60-d7a4-0b68a49b2903"
      },
      "execution_count": null,
      "outputs": [
        {
          "output_type": "execute_result",
          "data": {
            "text/plain": [
              "<Axes: >"
            ]
          },
          "metadata": {},
          "execution_count": 96
        },
        {
          "output_type": "display_data",
          "data": {
            "text/plain": [
              "<Figure size 640x480 with 1 Axes>"
            ],
            "image/png": "[encoded data removed]"
          },
          "metadata": {}
        }
      ]
    },
    {
      "cell_type": "code",
      "source": [
        "from sklearn.preprocessing import StandardScaler\n",
        "scaler = StandardScaler()\n",
        "df_skin_1['Calibrated Value'] = scaler.fit_transform(df_skin_1['Calibrated Value'].values.reshape(-1, 1))\n",
        "df_skin_1['Calibrated Value'].plot()"
      ],
      "metadata": {
        "colab": {
          "base_uri": "https://localhost:8080/",
          "height": 567
        },
        "id": "7FYnYgU-WRFy",
        "outputId": "b9078124-0c99-4165-9e19-73f496f5035f"
      },
      "execution_count": null,
      "outputs": [
        {
          "output_type": "stream",
          "name": "stderr",
          "text": [
            "<ipython-input-97-510bc40d3976>:3: SettingWithCopyWarning: \n",
            "A value is trying to be set on a copy of a slice from a DataFrame.\n",
            "Try using .loc[row_indexer,col_indexer] = value instead\n",
            "\n",
            "See the caveats in the documentation: https://pandas.pydata.org/pandas-docs/stable/user_guide/indexing.html#returning-a-view-versus-a-copy\n",
            "  df_skin_1['Calibrated Value'] = scaler.fit_transform(df_skin_1['Calibrated Value'].values.reshape(-1, 1))\n"
          ]
        },
        {
          "output_type": "execute_result",
          "data": {
            "text/plain": [
              "<Axes: >"
            ]
          },
          "metadata": {},
          "execution_count": 97
        },
        {
          "output_type": "display_data",
          "data": {
            "text/plain": [
              "<Figure size 640x480 with 1 Axes>"
            ],
            "image/png": "[encoded data removed]"
          },
          "metadata": {}
        }
      ]
    },
    {
      "cell_type": "code",
      "source": [
        "df_hr = df_hr.rename(columns={'Sub.ID': 'ID'})\n",
        "df_hr = df_hr.replace('ID_14', 14)"
      ],
      "metadata": {
        "id": "DMFXxHN_M7-Q"
      },
      "execution_count": null,
      "outputs": []
    },
    {
      "cell_type": "code",
      "source": [
        "df_hr_1 = df_hr.query('ID == 14')\n",
        "df_hr_1"
      ],
      "metadata": {
        "colab": {
          "base_uri": "https://localhost:8080/",
          "height": 419
        },
        "id": "ewjlLFPGM-sS",
        "outputId": "3de39b2a-bb93-44c3-aa6e-dc90aa058b88"
      },
      "execution_count": null,
      "outputs": [
        {
          "output_type": "execute_result",
          "data": {
            "text/plain": [
              "                        Time    HR  ID\n",
              "1261045  2017-05-13 09:52:33  69.0  14\n",
              "1261046  2017-05-13 09:52:34  69.0  14\n",
              "1261047  2017-05-13 09:52:35  69.0  14\n",
              "1261048  2017-05-13 09:52:36  69.0  14\n",
              "1261049  2017-05-13 09:52:37  69.0  14\n",
              "...                      ...   ...  ..\n",
              "2109684  2017-06-01 20:44:03   NaN  14\n",
              "2109685  2017-06-01 20:44:04   NaN  14\n",
              "2109686  2017-06-01 20:44:05   NaN  14\n",
              "2109687  2017-06-01 20:44:06   NaN  14\n",
              "2109688  2017-06-01 20:44:07   NaN  14\n",
              "\n",
              "[848644 rows x 3 columns]"
            ],
            "text/html": [
              "\n",
              "  <div id=\"df-6fb184a1-604c-4eab-9c3d-114220912642\">\n",
              "    <div class=\"colab-df-container\">\n",
              "      <div>\n",
              "<style scoped>\n",
              "    .dataframe tbody tr th:only-of-type {\n",
              "        vertical-align: middle;\n",
              "    }\n",
              "\n",
              "    .dataframe tbody tr th {\n",
              "        vertical-align: top;\n",
              "    }\n",
              "\n",
              "    .dataframe thead th {\n",
              "        text-align: right;\n",
              "    }\n",
              "</style>\n",
              "<table border=\"1\" class=\"dataframe\">\n",
              "  <thead>\n",
              "    <tr style=\"text-align: right;\">\n",
              "      <th></th>\n",
              "      <th>Time</th>\n",
              "      <th>HR</th>\n",
              "      <th>ID</th>\n",
              "    </tr>\n",
              "  </thead>\n",
              "  <tbody>\n",
              "    <tr>\n",
              "      <th>1261045</th>\n",
              "      <td>2017-05-13 09:52:33</td>\n",
              "      <td>69.0</td>\n",
              "      <td>14</td>\n",
              "    </tr>\n",
              "    <tr>\n",
              "      <th>1261046</th>\n",
              "      <td>2017-05-13 09:52:34</td>\n",
              "      <td>69.0</td>\n",
              "      <td>14</td>\n",
              "    </tr>\n",
              "    <tr>\n",
              "      <th>1261047</th>\n",
              "      <td>2017-05-13 09:52:35</td>\n",
              "      <td>69.0</td>\n",
              "      <td>14</td>\n",
              "    </tr>\n",
              "    <tr>\n",
              "      <th>1261048</th>\n",
              "      <td>2017-05-13 09:52:36</td>\n",
              "      <td>69.0</td>\n",
              "      <td>14</td>\n",
              "    </tr>\n",
              "    <tr>\n",
              "      <th>1261049</th>\n",
              "      <td>2017-05-13 09:52:37</td>\n",
              "      <td>69.0</td>\n",
              "      <td>14</td>\n",
              "    </tr>\n",
              "    <tr>\n",
              "      <th>...</th>\n",
              "      <td>...</td>\n",
              "      <td>...</td>\n",
              "      <td>...</td>\n",
              "    </tr>\n",
              "    <tr>\n",
              "      <th>2109684</th>\n",
              "      <td>2017-06-01 20:44:03</td>\n",
              "      <td>NaN</td>\n",
              "      <td>14</td>\n",
              "    </tr>\n",
              "    <tr>\n",
              "      <th>2109685</th>\n",
              "      <td>2017-06-01 20:44:04</td>\n",
              "      <td>NaN</td>\n",
              "      <td>14</td>\n",
              "    </tr>\n",
              "    <tr>\n",
              "      <th>2109686</th>\n",
              "      <td>2017-06-01 20:44:05</td>\n",
              "      <td>NaN</td>\n",
              "      <td>14</td>\n",
              "    </tr>\n",
              "    <tr>\n",
              "      <th>2109687</th>\n",
              "      <td>2017-06-01 20:44:06</td>\n",
              "      <td>NaN</td>\n",
              "      <td>14</td>\n",
              "    </tr>\n",
              "    <tr>\n",
              "      <th>2109688</th>\n",
              "      <td>2017-06-01 20:44:07</td>\n",
              "      <td>NaN</td>\n",
              "      <td>14</td>\n",
              "    </tr>\n",
              "  </tbody>\n",
              "</table>\n",
              "<p>848644 rows × 3 columns</p>\n",
              "</div>\n",
              "      <button class=\"colab-df-convert\" onclick=\"convertToInteractive('df-6fb184a1-604c-4eab-9c3d-114220912642')\"\n",
              "              title=\"Convert this dataframe to an interactive table.\"\n",
              "              style=\"display:none;\">\n",
              "        \n",
              "  <svg xmlns=\"http://www.w3.org/2000/svg\" height=\"24px\"viewBox=\"0 0 24 24\"\n",
              "       width=\"24px\">\n",
              "    <path d=\"M0 0h24v24H0V0z\" fill=\"none\"/>\n",
              "    <path d=\"M18.56 5.44l.94 2.06.94-2.06 2.06-.94-2.06-.94-.94-2.06-.94 2.06-2.06.94zm-11 1L8.5 8.5l.94-2.06 2.06-.94-2.06-.94L8.5 2.5l-.94 2.06-2.06.94zm10 10l.94 2.06.94-2.06 2.06-.94-2.06-.94-.94-2.06-.94 2.06-2.06.94z\"/><path d=\"M17.41 7.96l-1.37-1.37c-.4-.4-.92-.59-1.43-.59-.52 0-1.04.2-1.43.59L10.3 9.45l-7.72 7.72c-.78.78-.78 2.05 0 2.83L4 21.41c.39.39.9.59 1.41.59.51 0 1.02-.2 1.41-.59l7.78-7.78 2.81-2.81c.8-.78.8-2.07 0-2.86zM5.41 20L4 18.59l7.72-7.72 1.47 1.35L5.41 20z\"/>\n",
              "  </svg>\n",
              "      </button>\n",
              "      \n",
              "  <style>\n",
              "    .colab-df-container {\n",
              "      display:flex;\n",
              "      flex-wrap:wrap;\n",
              "      gap: 12px;\n",
              "    }\n",
              "\n",
              "    .colab-df-convert {\n",
              "      background-color: #E8F0FE;\n",
              "      border: none;\n",
              "      border-radius: 50%;\n",
              "      cursor: pointer;\n",
              "      display: none;\n",
              "      fill: #1967D2;\n",
              "      height: 32px;\n",
              "      padding: 0 0 0 0;\n",
              "      width: 32px;\n",
              "    }\n",
              "\n",
              "    .colab-df-convert:hover {\n",
              "      background-color: #E2EBFA;\n",
              "      box-shadow: 0px 1px 2px rgba(60, 64, 67, 0.3), 0px 1px 3px 1px rgba(60, 64, 67, 0.15);\n",
              "      fill: #174EA6;\n",
              "    }\n",
              "\n",
              "    [theme=dark] .colab-df-convert {\n",
              "      background-color: #3B4455;\n",
              "      fill: #D2E3FC;\n",
              "    }\n",
              "\n",
              "    [theme=dark] .colab-df-convert:hover {\n",
              "      background-color: #434B5C;\n",
              "      box-shadow: 0px 1px 3px 1px rgba(0, 0, 0, 0.15);\n",
              "      filter: drop-shadow(0px 1px 2px rgba(0, 0, 0, 0.3));\n",
              "      fill: #FFFFFF;\n",
              "    }\n",
              "  </style>\n",
              "\n",
              "      <script>\n",
              "        const buttonEl =\n",
              "          document.querySelector('#df-6fb184a1-604c-4eab-9c3d-114220912642 button.colab-df-convert');\n",
              "        buttonEl.style.display =\n",
              "          google.colab.kernel.accessAllowed ? 'block' : 'none';\n",
              "\n",
              "        async function convertToInteractive(key) {\n",
              "          const element = document.querySelector('#df-6fb184a1-604c-4eab-9c3d-114220912642');\n",
              "          const dataTable =\n",
              "            await google.colab.kernel.invokeFunction('convertToInteractive',\n",
              "                                                     [key], {});\n",
              "          if (!dataTable) return;\n",
              "\n",
              "          const docLinkHtml = 'Like what you see? Visit the ' +\n",
              "            '<a target=\"_blank\" href=https://colab.research.google.com/notebooks/data_table.ipynb>data table notebook</a>'\n",
              "            + ' to learn more about interactive tables.';\n",
              "          element.innerHTML = '';\n",
              "          dataTable['output_type'] = 'display_data';\n",
              "          await google.colab.output.renderOutput(dataTable, element);\n",
              "          const docLink = document.createElement('div');\n",
              "          docLink.innerHTML = docLinkHtml;\n",
              "          element.appendChild(docLink);\n",
              "        }\n",
              "      </script>\n",
              "    </div>\n",
              "  </div>\n",
              "  "
            ]
          },
          "metadata": {},
          "execution_count": 99
        }
      ]
    },
    {
      "cell_type": "code",
      "source": [
        "df_hr_1.isna().sum()"
      ],
      "metadata": {
        "colab": {
          "base_uri": "https://localhost:8080/"
        },
        "id": "ozAaE4chOket",
        "outputId": "7110f816-e948-4927-bc74-24c60dc5df7e"
      },
      "execution_count": null,
      "outputs": [
        {
          "output_type": "execute_result",
          "data": {
            "text/plain": [
              "Time        0\n",
              "HR      30307\n",
              "ID          0\n",
              "dtype: int64"
            ]
          },
          "metadata": {},
          "execution_count": 100
        }
      ]
    },
    {
      "cell_type": "code",
      "source": [
        "df_hr_1['HR'] = df_hr_1['HR'].fillna(method='ffill')\n",
        "df_hr_1"
      ],
      "metadata": {
        "colab": {
          "base_uri": "https://localhost:8080/",
          "height": 521
        },
        "id": "C4ybES7OOs5v",
        "outputId": "c857bc57-2a0a-4635-d7b0-5d295ba29eb0"
      },
      "execution_count": null,
      "outputs": [
        {
          "output_type": "stream",
          "name": "stderr",
          "text": [
            "<ipython-input-101-bee1b4495e01>:1: SettingWithCopyWarning: \n",
            "A value is trying to be set on a copy of a slice from a DataFrame.\n",
            "Try using .loc[row_indexer,col_indexer] = value instead\n",
            "\n",
            "See the caveats in the documentation: https://pandas.pydata.org/pandas-docs/stable/user_guide/indexing.html#returning-a-view-versus-a-copy\n",
            "  df_hr_1['HR'] = df_hr_1['HR'].fillna(method='ffill')\n"
          ]
        },
        {
          "output_type": "execute_result",
          "data": {
            "text/plain": [
              "                        Time    HR  ID\n",
              "1261045  2017-05-13 09:52:33  69.0  14\n",
              "1261046  2017-05-13 09:52:34  69.0  14\n",
              "1261047  2017-05-13 09:52:35  69.0  14\n",
              "1261048  2017-05-13 09:52:36  69.0  14\n",
              "1261049  2017-05-13 09:52:37  69.0  14\n",
              "...                      ...   ...  ..\n",
              "2109684  2017-06-01 20:44:03  80.0  14\n",
              "2109685  2017-06-01 20:44:04  80.0  14\n",
              "2109686  2017-06-01 20:44:05  80.0  14\n",
              "2109687  2017-06-01 20:44:06  80.0  14\n",
              "2109688  2017-06-01 20:44:07  80.0  14\n",
              "\n",
              "[848644 rows x 3 columns]"
            ],
            "text/html": [
              "\n",
              "  <div id=\"df-70a8fa28-96c9-46ae-b879-881e29697bb6\">\n",
              "    <div class=\"colab-df-container\">\n",
              "      <div>\n",
              "<style scoped>\n",
              "    .dataframe tbody tr th:only-of-type {\n",
              "        vertical-align: middle;\n",
              "    }\n",
              "\n",
              "    .dataframe tbody tr th {\n",
              "        vertical-align: top;\n",
              "    }\n",
              "\n",
              "    .dataframe thead th {\n",
              "        text-align: right;\n",
              "    }\n",
              "</style>\n",
              "<table border=\"1\" class=\"dataframe\">\n",
              "  <thead>\n",
              "    <tr style=\"text-align: right;\">\n",
              "      <th></th>\n",
              "      <th>Time</th>\n",
              "      <th>HR</th>\n",
              "      <th>ID</th>\n",
              "    </tr>\n",
              "  </thead>\n",
              "  <tbody>\n",
              "    <tr>\n",
              "      <th>1261045</th>\n",
              "      <td>2017-05-13 09:52:33</td>\n",
              "      <td>69.0</td>\n",
              "      <td>14</td>\n",
              "    </tr>\n",
              "    <tr>\n",
              "      <th>1261046</th>\n",
              "      <td>2017-05-13 09:52:34</td>\n",
              "      <td>69.0</td>\n",
              "      <td>14</td>\n",
              "    </tr>\n",
              "    <tr>\n",
              "      <th>1261047</th>\n",
              "      <td>2017-05-13 09:52:35</td>\n",
              "      <td>69.0</td>\n",
              "      <td>14</td>\n",
              "    </tr>\n",
              "    <tr>\n",
              "      <th>1261048</th>\n",
              "      <td>2017-05-13 09:52:36</td>\n",
              "      <td>69.0</td>\n",
              "      <td>14</td>\n",
              "    </tr>\n",
              "    <tr>\n",
              "      <th>1261049</th>\n",
              "      <td>2017-05-13 09:52:37</td>\n",
              "      <td>69.0</td>\n",
              "      <td>14</td>\n",
              "    </tr>\n",
              "    <tr>\n",
              "      <th>...</th>\n",
              "      <td>...</td>\n",
              "      <td>...</td>\n",
              "      <td>...</td>\n",
              "    </tr>\n",
              "    <tr>\n",
              "      <th>2109684</th>\n",
              "      <td>2017-06-01 20:44:03</td>\n",
              "      <td>80.0</td>\n",
              "      <td>14</td>\n",
              "    </tr>\n",
              "    <tr>\n",
              "      <th>2109685</th>\n",
              "      <td>2017-06-01 20:44:04</td>\n",
              "      <td>80.0</td>\n",
              "      <td>14</td>\n",
              "    </tr>\n",
              "    <tr>\n",
              "      <th>2109686</th>\n",
              "      <td>2017-06-01 20:44:05</td>\n",
              "      <td>80.0</td>\n",
              "      <td>14</td>\n",
              "    </tr>\n",
              "    <tr>\n",
              "      <th>2109687</th>\n",
              "      <td>2017-06-01 20:44:06</td>\n",
              "      <td>80.0</td>\n",
              "      <td>14</td>\n",
              "    </tr>\n",
              "    <tr>\n",
              "      <th>2109688</th>\n",
              "      <td>2017-06-01 20:44:07</td>\n",
              "      <td>80.0</td>\n",
              "      <td>14</td>\n",
              "    </tr>\n",
              "  </tbody>\n",
              "</table>\n",
              "<p>848644 rows × 3 columns</p>\n",
              "</div>\n",
              "      <button class=\"colab-df-convert\" onclick=\"convertToInteractive('df-70a8fa28-96c9-46ae-b879-881e29697bb6')\"\n",
              "              title=\"Convert this dataframe to an interactive table.\"\n",
              "              style=\"display:none;\">\n",
              "        \n",
              "  <svg xmlns=\"http://www.w3.org/2000/svg\" height=\"24px\"viewBox=\"0 0 24 24\"\n",
              "       width=\"24px\">\n",
              "    <path d=\"M0 0h24v24H0V0z\" fill=\"none\"/>\n",
              "    <path d=\"M18.56 5.44l.94 2.06.94-2.06 2.06-.94-2.06-.94-.94-2.06-.94 2.06-2.06.94zm-11 1L8.5 8.5l.94-2.06 2.06-.94-2.06-.94L8.5 2.5l-.94 2.06-2.06.94zm10 10l.94 2.06.94-2.06 2.06-.94-2.06-.94-.94-2.06-.94 2.06-2.06.94z\"/><path d=\"M17.41 7.96l-1.37-1.37c-.4-.4-.92-.59-1.43-.59-.52 0-1.04.2-1.43.59L10.3 9.45l-7.72 7.72c-.78.78-.78 2.05 0 2.83L4 21.41c.39.39.9.59 1.41.59.51 0 1.02-.2 1.41-.59l7.78-7.78 2.81-2.81c.8-.78.8-2.07 0-2.86zM5.41 20L4 18.59l7.72-7.72 1.47 1.35L5.41 20z\"/>\n",
              "  </svg>\n",
              "      </button>\n",
              "      \n",
              "  <style>\n",
              "    .colab-df-container {\n",
              "      display:flex;\n",
              "      flex-wrap:wrap;\n",
              "      gap: 12px;\n",
              "    }\n",
              "\n",
              "    .colab-df-convert {\n",
              "      background-color: #E8F0FE;\n",
              "      border: none;\n",
              "      border-radius: 50%;\n",
              "      cursor: pointer;\n",
              "      display: none;\n",
              "      fill: #1967D2;\n",
              "      height: 32px;\n",
              "      padding: 0 0 0 0;\n",
              "      width: 32px;\n",
              "    }\n",
              "\n",
              "    .colab-df-convert:hover {\n",
              "      background-color: #E2EBFA;\n",
              "      box-shadow: 0px 1px 2px rgba(60, 64, 67, 0.3), 0px 1px 3px 1px rgba(60, 64, 67, 0.15);\n",
              "      fill: #174EA6;\n",
              "    }\n",
              "\n",
              "    [theme=dark] .colab-df-convert {\n",
              "      background-color: #3B4455;\n",
              "      fill: #D2E3FC;\n",
              "    }\n",
              "\n",
              "    [theme=dark] .colab-df-convert:hover {\n",
              "      background-color: #434B5C;\n",
              "      box-shadow: 0px 1px 3px 1px rgba(0, 0, 0, 0.15);\n",
              "      filter: drop-shadow(0px 1px 2px rgba(0, 0, 0, 0.3));\n",
              "      fill: #FFFFFF;\n",
              "    }\n",
              "  </style>\n",
              "\n",
              "      <script>\n",
              "        const buttonEl =\n",
              "          document.querySelector('#df-70a8fa28-96c9-46ae-b879-881e29697bb6 button.colab-df-convert');\n",
              "        buttonEl.style.display =\n",
              "          google.colab.kernel.accessAllowed ? 'block' : 'none';\n",
              "\n",
              "        async function convertToInteractive(key) {\n",
              "          const element = document.querySelector('#df-70a8fa28-96c9-46ae-b879-881e29697bb6');\n",
              "          const dataTable =\n",
              "            await google.colab.kernel.invokeFunction('convertToInteractive',\n",
              "                                                     [key], {});\n",
              "          if (!dataTable) return;\n",
              "\n",
              "          const docLinkHtml = 'Like what you see? Visit the ' +\n",
              "            '<a target=\"_blank\" href=https://colab.research.google.com/notebooks/data_table.ipynb>data table notebook</a>'\n",
              "            + ' to learn more about interactive tables.';\n",
              "          element.innerHTML = '';\n",
              "          dataTable['output_type'] = 'display_data';\n",
              "          await google.colab.output.renderOutput(dataTable, element);\n",
              "          const docLink = document.createElement('div');\n",
              "          docLink.innerHTML = docLinkHtml;\n",
              "          element.appendChild(docLink);\n",
              "        }\n",
              "      </script>\n",
              "    </div>\n",
              "  </div>\n",
              "  "
            ]
          },
          "metadata": {},
          "execution_count": 101
        }
      ]
    },
    {
      "cell_type": "code",
      "source": [
        "df_hr_1['HR'].plot()"
      ],
      "metadata": {
        "colab": {
          "base_uri": "https://localhost:8080/",
          "height": 465
        },
        "id": "TZQiYTDBTwFS",
        "outputId": "8d36105c-20ee-4ea5-8325-c95ef9318e4f"
      },
      "execution_count": null,
      "outputs": [
        {
          "output_type": "execute_result",
          "data": {
            "text/plain": [
              "<Axes: >"
            ]
          },
          "metadata": {},
          "execution_count": 102
        },
        {
          "output_type": "display_data",
          "data": {
            "text/plain": [
              "<Figure size 640x480 with 1 Axes>"
            ],
            "image/png": "[encoded data removed]"
          },
          "metadata": {}
        }
      ]
    },
    {
      "cell_type": "code",
      "source": [
        "#replace the zero values\n",
        "df_hr_1['HR'] = df_hr_1['HR'].replace(0, df_hr_1['HR'].median())\n",
        "df_hr_1['HR'].plot()"
      ],
      "metadata": {
        "colab": {
          "base_uri": "https://localhost:8080/",
          "height": 567
        },
        "id": "eGlyBMMqUFV9",
        "outputId": "9991c5d8-62e3-445b-e116-1ed3b00f9701"
      },
      "execution_count": null,
      "outputs": [
        {
          "output_type": "stream",
          "name": "stderr",
          "text": [
            "<ipython-input-103-2298d9bd179f>:2: SettingWithCopyWarning: \n",
            "A value is trying to be set on a copy of a slice from a DataFrame.\n",
            "Try using .loc[row_indexer,col_indexer] = value instead\n",
            "\n",
            "See the caveats in the documentation: https://pandas.pydata.org/pandas-docs/stable/user_guide/indexing.html#returning-a-view-versus-a-copy\n",
            "  df_hr_1['HR'] = df_hr_1['HR'].replace(0, df_hr_1['HR'].median())\n"
          ]
        },
        {
          "output_type": "execute_result",
          "data": {
            "text/plain": [
              "<Axes: >"
            ]
          },
          "metadata": {},
          "execution_count": 103
        },
        {
          "output_type": "display_data",
          "data": {
            "text/plain": [
              "<Figure size 640x480 with 1 Axes>"
            ],
            "image/png": "[encoded data removed]"
          },
          "metadata": {}
        }
      ]
    },
    {
      "cell_type": "code",
      "source": [
        "df_hr_1['HR'] = scaler.fit_transform(df_hr_1['HR'].values.reshape(-1, 1))\n",
        "df_hr_1['HR'].plot()"
      ],
      "metadata": {
        "colab": {
          "base_uri": "https://localhost:8080/",
          "height": 567
        },
        "id": "dY0JPrS_YZeR",
        "outputId": "55418f7d-aae6-4444-c9c4-0d87cfed80e7"
      },
      "execution_count": null,
      "outputs": [
        {
          "output_type": "stream",
          "name": "stderr",
          "text": [
            "<ipython-input-104-c11106756944>:1: SettingWithCopyWarning: \n",
            "A value is trying to be set on a copy of a slice from a DataFrame.\n",
            "Try using .loc[row_indexer,col_indexer] = value instead\n",
            "\n",
            "See the caveats in the documentation: https://pandas.pydata.org/pandas-docs/stable/user_guide/indexing.html#returning-a-view-versus-a-copy\n",
            "  df_hr_1['HR'] = scaler.fit_transform(df_hr_1['HR'].values.reshape(-1, 1))\n"
          ]
        },
        {
          "output_type": "execute_result",
          "data": {
            "text/plain": [
              "<Axes: >"
            ]
          },
          "metadata": {},
          "execution_count": 104
        },
        {
          "output_type": "display_data",
          "data": {
            "text/plain": [
              "<Figure size 640x480 with 1 Axes>"
            ],
            "image/png": "[encoded data removed]"
          },
          "metadata": {}
        }
      ]
    },
    {
      "cell_type": "code",
      "source": [
        "df_acc = df_acc.rename(columns={'Name ID': 'ID'})\n",
        "df_acc = df_acc.replace('ID_14', 14)"
      ],
      "metadata": {
        "id": "A28-qNdHNAQ4"
      },
      "execution_count": null,
      "outputs": []
    },
    {
      "cell_type": "code",
      "source": [
        "df_acc_1 = df_acc.query('ID == 14')\n",
        "df_acc_1"
      ],
      "metadata": {
        "colab": {
          "base_uri": "https://localhost:8080/",
          "height": 419
        },
        "id": "e-nkYkl0NBzP",
        "outputId": "64ea5f61-4577-4cc0-b77b-ca3ab48a3c77"
      },
      "execution_count": null,
      "outputs": [
        {
          "output_type": "execute_result",
          "data": {
            "text/plain": [
              "                        Date_time      X      Y      Z  ID\n",
              "18154544  2017-05-13 10:02:56.000 -5.583  4.817  5.966  14\n",
              "18154545  2017-05-13 10:02:56.010 -5.688  4.826  5.966  14\n",
              "18154546  2017-05-13 10:02:56.050 -5.631  4.750  5.918  14\n",
              "18154547  2017-05-13 10:02:56.060 -5.640  4.865  5.851  14\n",
              "18154548  2017-05-13 10:02:56.070 -5.631  4.913  5.861  14\n",
              "...                           ...    ...    ...    ...  ..\n",
              "20004756  2017-05-14 21:38:58.403 -0.201  5.229  7.431  14\n",
              "20004757  2017-05-14 21:38:58.413 -0.344  5.200  7.422  14\n",
              "20004758  2017-05-14 21:38:58.423 -0.402  5.133  7.403  14\n",
              "20004759  2017-05-14 21:38:58.433 -0.306  5.075  7.364  14\n",
              "20004760  2017-05-14 21:38:58.443 -0.143  5.066  7.393  14\n",
              "\n",
              "[1850217 rows x 5 columns]"
            ],
            "text/html": [
              "\n",
              "  <div id=\"df-62d4973d-06d9-45e2-8a73-5f2428de8b50\">\n",
              "    <div class=\"colab-df-container\">\n",
              "      <div>\n",
              "<style scoped>\n",
              "    .dataframe tbody tr th:only-of-type {\n",
              "        vertical-align: middle;\n",
              "    }\n",
              "\n",
              "    .dataframe tbody tr th {\n",
              "        vertical-align: top;\n",
              "    }\n",
              "\n",
              "    .dataframe thead th {\n",
              "        text-align: right;\n",
              "    }\n",
              "</style>\n",
              "<table border=\"1\" class=\"dataframe\">\n",
              "  <thead>\n",
              "    <tr style=\"text-align: right;\">\n",
              "      <th></th>\n",
              "      <th>Date_time</th>\n",
              "      <th>X</th>\n",
              "      <th>Y</th>\n",
              "      <th>Z</th>\n",
              "      <th>ID</th>\n",
              "    </tr>\n",
              "  </thead>\n",
              "  <tbody>\n",
              "    <tr>\n",
              "      <th>18154544</th>\n",
              "      <td>2017-05-13 10:02:56.000</td>\n",
              "      <td>-5.583</td>\n",
              "      <td>4.817</td>\n",
              "      <td>5.966</td>\n",
              "      <td>14</td>\n",
              "    </tr>\n",
              "    <tr>\n",
              "      <th>18154545</th>\n",
              "      <td>2017-05-13 10:02:56.010</td>\n",
              "      <td>-5.688</td>\n",
              "      <td>4.826</td>\n",
              "      <td>5.966</td>\n",
              "      <td>14</td>\n",
              "    </tr>\n",
              "    <tr>\n",
              "      <th>18154546</th>\n",
              "      <td>2017-05-13 10:02:56.050</td>\n",
              "      <td>-5.631</td>\n",
              "      <td>4.750</td>\n",
              "      <td>5.918</td>\n",
              "      <td>14</td>\n",
              "    </tr>\n",
              "    <tr>\n",
              "      <th>18154547</th>\n",
              "      <td>2017-05-13 10:02:56.060</td>\n",
              "      <td>-5.640</td>\n",
              "      <td>4.865</td>\n",
              "      <td>5.851</td>\n",
              "      <td>14</td>\n",
              "    </tr>\n",
              "    <tr>\n",
              "      <th>18154548</th>\n",
              "      <td>2017-05-13 10:02:56.070</td>\n",
              "      <td>-5.631</td>\n",
              "      <td>4.913</td>\n",
              "      <td>5.861</td>\n",
              "      <td>14</td>\n",
              "    </tr>\n",
              "    <tr>\n",
              "      <th>...</th>\n",
              "      <td>...</td>\n",
              "      <td>...</td>\n",
              "      <td>...</td>\n",
              "      <td>...</td>\n",
              "      <td>...</td>\n",
              "    </tr>\n",
              "    <tr>\n",
              "      <th>20004756</th>\n",
              "      <td>2017-05-14 21:38:58.403</td>\n",
              "      <td>-0.201</td>\n",
              "      <td>5.229</td>\n",
              "      <td>7.431</td>\n",
              "      <td>14</td>\n",
              "    </tr>\n",
              "    <tr>\n",
              "      <th>20004757</th>\n",
              "      <td>2017-05-14 21:38:58.413</td>\n",
              "      <td>-0.344</td>\n",
              "      <td>5.200</td>\n",
              "      <td>7.422</td>\n",
              "      <td>14</td>\n",
              "    </tr>\n",
              "    <tr>\n",
              "      <th>20004758</th>\n",
              "      <td>2017-05-14 21:38:58.423</td>\n",
              "      <td>-0.402</td>\n",
              "      <td>5.133</td>\n",
              "      <td>7.403</td>\n",
              "      <td>14</td>\n",
              "    </tr>\n",
              "    <tr>\n",
              "      <th>20004759</th>\n",
              "      <td>2017-05-14 21:38:58.433</td>\n",
              "      <td>-0.306</td>\n",
              "      <td>5.075</td>\n",
              "      <td>7.364</td>\n",
              "      <td>14</td>\n",
              "    </tr>\n",
              "    <tr>\n",
              "      <th>20004760</th>\n",
              "      <td>2017-05-14 21:38:58.443</td>\n",
              "      <td>-0.143</td>\n",
              "      <td>5.066</td>\n",
              "      <td>7.393</td>\n",
              "      <td>14</td>\n",
              "    </tr>\n",
              "  </tbody>\n",
              "</table>\n",
              "<p>1850217 rows × 5 columns</p>\n",
              "</div>\n",
              "      <button class=\"colab-df-convert\" onclick=\"convertToInteractive('df-62d4973d-06d9-45e2-8a73-5f2428de8b50')\"\n",
              "              title=\"Convert this dataframe to an interactive table.\"\n",
              "              style=\"display:none;\">\n",
              "        \n",
              "  <svg xmlns=\"http://www.w3.org/2000/svg\" height=\"24px\"viewBox=\"0 0 24 24\"\n",
              "       width=\"24px\">\n",
              "    <path d=\"M0 0h24v24H0V0z\" fill=\"none\"/>\n",
              "    <path d=\"M18.56 5.44l.94 2.06.94-2.06 2.06-.94-2.06-.94-.94-2.06-.94 2.06-2.06.94zm-11 1L8.5 8.5l.94-2.06 2.06-.94-2.06-.94L8.5 2.5l-.94 2.06-2.06.94zm10 10l.94 2.06.94-2.06 2.06-.94-2.06-.94-.94-2.06-.94 2.06-2.06.94z\"/><path d=\"M17.41 7.96l-1.37-1.37c-.4-.4-.92-.59-1.43-.59-.52 0-1.04.2-1.43.59L10.3 9.45l-7.72 7.72c-.78.78-.78 2.05 0 2.83L4 21.41c.39.39.9.59 1.41.59.51 0 1.02-.2 1.41-.59l7.78-7.78 2.81-2.81c.8-.78.8-2.07 0-2.86zM5.41 20L4 18.59l7.72-7.72 1.47 1.35L5.41 20z\"/>\n",
              "  </svg>\n",
              "      </button>\n",
              "      \n",
              "  <style>\n",
              "    .colab-df-container {\n",
              "      display:flex;\n",
              "      flex-wrap:wrap;\n",
              "      gap: 12px;\n",
              "    }\n",
              "\n",
              "    .colab-df-convert {\n",
              "      background-color: #E8F0FE;\n",
              "      border: none;\n",
              "      border-radius: 50%;\n",
              "      cursor: pointer;\n",
              "      display: none;\n",
              "      fill: #1967D2;\n",
              "      height: 32px;\n",
              "      padding: 0 0 0 0;\n",
              "      width: 32px;\n",
              "    }\n",
              "\n",
              "    .colab-df-convert:hover {\n",
              "      background-color: #E2EBFA;\n",
              "      box-shadow: 0px 1px 2px rgba(60, 64, 67, 0.3), 0px 1px 3px 1px rgba(60, 64, 67, 0.15);\n",
              "      fill: #174EA6;\n",
              "    }\n",
              "\n",
              "    [theme=dark] .colab-df-convert {\n",
              "      background-color: #3B4455;\n",
              "      fill: #D2E3FC;\n",
              "    }\n",
              "\n",
              "    [theme=dark] .colab-df-convert:hover {\n",
              "      background-color: #434B5C;\n",
              "      box-shadow: 0px 1px 3px 1px rgba(0, 0, 0, 0.15);\n",
              "      filter: drop-shadow(0px 1px 2px rgba(0, 0, 0, 0.3));\n",
              "      fill: #FFFFFF;\n",
              "    }\n",
              "  </style>\n",
              "\n",
              "      <script>\n",
              "        const buttonEl =\n",
              "          document.querySelector('#df-62d4973d-06d9-45e2-8a73-5f2428de8b50 button.colab-df-convert');\n",
              "        buttonEl.style.display =\n",
              "          google.colab.kernel.accessAllowed ? 'block' : 'none';\n",
              "\n",
              "        async function convertToInteractive(key) {\n",
              "          const element = document.querySelector('#df-62d4973d-06d9-45e2-8a73-5f2428de8b50');\n",
              "          const dataTable =\n",
              "            await google.colab.kernel.invokeFunction('convertToInteractive',\n",
              "                                                     [key], {});\n",
              "          if (!dataTable) return;\n",
              "\n",
              "          const docLinkHtml = 'Like what you see? Visit the ' +\n",
              "            '<a target=\"_blank\" href=https://colab.research.google.com/notebooks/data_table.ipynb>data table notebook</a>'\n",
              "            + ' to learn more about interactive tables.';\n",
              "          element.innerHTML = '';\n",
              "          dataTable['output_type'] = 'display_data';\n",
              "          await google.colab.output.renderOutput(dataTable, element);\n",
              "          const docLink = document.createElement('div');\n",
              "          docLink.innerHTML = docLinkHtml;\n",
              "          element.appendChild(docLink);\n",
              "        }\n",
              "      </script>\n",
              "    </div>\n",
              "  </div>\n",
              "  "
            ]
          },
          "metadata": {},
          "execution_count": 106
        }
      ]
    },
    {
      "cell_type": "code",
      "source": [
        "df_acc_1.isna().sum()"
      ],
      "metadata": {
        "colab": {
          "base_uri": "https://localhost:8080/"
        },
        "id": "zC-TtnUmPUMs",
        "outputId": "0379400e-622a-468c-a9dc-eeac74f92937"
      },
      "execution_count": null,
      "outputs": [
        {
          "output_type": "execute_result",
          "data": {
            "text/plain": [
              "Date_time    0\n",
              "X            0\n",
              "Y            0\n",
              "Z            0\n",
              "ID           0\n",
              "dtype: int64"
            ]
          },
          "metadata": {},
          "execution_count": 107
        }
      ]
    },
    {
      "cell_type": "code",
      "source": [
        "df_acc_1[['X', 'Y', 'Z']]= scaler.fit_transform(df_acc_1[['X', 'Y', 'Z']])\n",
        "df_acc_1[['X', 'Y', 'Z']]"
      ],
      "metadata": {
        "colab": {
          "base_uri": "https://localhost:8080/",
          "height": 521
        },
        "id": "Xx3jQEYTY221",
        "outputId": "6497a124-ae83-4053-b7d0-ecace15d578c"
      },
      "execution_count": null,
      "outputs": [
        {
          "output_type": "stream",
          "name": "stderr",
          "text": [
            "<ipython-input-108-ec751489bfab>:1: SettingWithCopyWarning: \n",
            "A value is trying to be set on a copy of a slice from a DataFrame.\n",
            "Try using .loc[row_indexer,col_indexer] = value instead\n",
            "\n",
            "See the caveats in the documentation: https://pandas.pydata.org/pandas-docs/stable/user_guide/indexing.html#returning-a-view-versus-a-copy\n",
            "  df_acc_1[['X', 'Y', 'Z']]= scaler.fit_transform(df_acc_1[['X', 'Y', 'Z']])\n"
          ]
        },
        {
          "output_type": "execute_result",
          "data": {
            "text/plain": [
              "                 X         Y         Z\n",
              "18154544 -1.442118  0.689407 -0.054783\n",
              "18154545 -1.472974  0.692058 -0.054783\n",
              "18154546 -1.456224  0.669666 -0.064011\n",
              "18154547 -1.458869  0.703549 -0.076893\n",
              "18154548 -1.456224  0.717691 -0.074971\n",
              "...            ...       ...       ...\n",
              "20004756  0.139501  0.810793  0.226887\n",
              "20004757  0.097477  0.802249  0.225157\n",
              "20004758  0.080433  0.782509  0.221504\n",
              "20004759  0.108645  0.765421  0.214005\n",
              "20004760  0.156546  0.762769  0.219581\n",
              "\n",
              "[1850217 rows x 3 columns]"
            ],
            "text/html": [
              "\n",
              "  <div id=\"df-17575377-66fb-4d4f-9f0a-205b4b27ad44\">\n",
              "    <div class=\"colab-df-container\">\n",
              "      <div>\n",
              "<style scoped>\n",
              "    .dataframe tbody tr th:only-of-type {\n",
              "        vertical-align: middle;\n",
              "    }\n",
              "\n",
              "    .dataframe tbody tr th {\n",
              "        vertical-align: top;\n",
              "    }\n",
              "\n",
              "    .dataframe thead th {\n",
              "        text-align: right;\n",
              "    }\n",
              "</style>\n",
              "<table border=\"1\" class=\"dataframe\">\n",
              "  <thead>\n",
              "    <tr style=\"text-align: right;\">\n",
              "      <th></th>\n",
              "      <th>X</th>\n",
              "      <th>Y</th>\n",
              "      <th>Z</th>\n",
              "    </tr>\n",
              "  </thead>\n",
              "  <tbody>\n",
              "    <tr>\n",
              "      <th>18154544</th>\n",
              "      <td>-1.442118</td>\n",
              "      <td>0.689407</td>\n",
              "      <td>-0.054783</td>\n",
              "    </tr>\n",
              "    <tr>\n",
              "      <th>18154545</th>\n",
              "      <td>-1.472974</td>\n",
              "      <td>0.692058</td>\n",
              "      <td>-0.054783</td>\n",
              "    </tr>\n",
              "    <tr>\n",
              "      <th>18154546</th>\n",
              "      <td>-1.456224</td>\n",
              "      <td>0.669666</td>\n",
              "      <td>-0.064011</td>\n",
              "    </tr>\n",
              "    <tr>\n",
              "      <th>18154547</th>\n",
              "      <td>-1.458869</td>\n",
              "      <td>0.703549</td>\n",
              "      <td>-0.076893</td>\n",
              "    </tr>\n",
              "    <tr>\n",
              "      <th>18154548</th>\n",
              "      <td>-1.456224</td>\n",
              "      <td>0.717691</td>\n",
              "      <td>-0.074971</td>\n",
              "    </tr>\n",
              "    <tr>\n",
              "      <th>...</th>\n",
              "      <td>...</td>\n",
              "      <td>...</td>\n",
              "      <td>...</td>\n",
              "    </tr>\n",
              "    <tr>\n",
              "      <th>20004756</th>\n",
              "      <td>0.139501</td>\n",
              "      <td>0.810793</td>\n",
              "      <td>0.226887</td>\n",
              "    </tr>\n",
              "    <tr>\n",
              "      <th>20004757</th>\n",
              "      <td>0.097477</td>\n",
              "      <td>0.802249</td>\n",
              "      <td>0.225157</td>\n",
              "    </tr>\n",
              "    <tr>\n",
              "      <th>20004758</th>\n",
              "      <td>0.080433</td>\n",
              "      <td>0.782509</td>\n",
              "      <td>0.221504</td>\n",
              "    </tr>\n",
              "    <tr>\n",
              "      <th>20004759</th>\n",
              "      <td>0.108645</td>\n",
              "      <td>0.765421</td>\n",
              "      <td>0.214005</td>\n",
              "    </tr>\n",
              "    <tr>\n",
              "      <th>20004760</th>\n",
              "      <td>0.156546</td>\n",
              "      <td>0.762769</td>\n",
              "      <td>0.219581</td>\n",
              "    </tr>\n",
              "  </tbody>\n",
              "</table>\n",
              "<p>1850217 rows × 3 columns</p>\n",
              "</div>\n",
              "      <button class=\"colab-df-convert\" onclick=\"convertToInteractive('df-17575377-66fb-4d4f-9f0a-205b4b27ad44')\"\n",
              "              title=\"Convert this dataframe to an interactive table.\"\n",
              "              style=\"display:none;\">\n",
              "        \n",
              "  <svg xmlns=\"http://www.w3.org/2000/svg\" height=\"24px\"viewBox=\"0 0 24 24\"\n",
              "       width=\"24px\">\n",
              "    <path d=\"M0 0h24v24H0V0z\" fill=\"none\"/>\n",
              "    <path d=\"M18.56 5.44l.94 2.06.94-2.06 2.06-.94-2.06-.94-.94-2.06-.94 2.06-2.06.94zm-11 1L8.5 8.5l.94-2.06 2.06-.94-2.06-.94L8.5 2.5l-.94 2.06-2.06.94zm10 10l.94 2.06.94-2.06 2.06-.94-2.06-.94-.94-2.06-.94 2.06-2.06.94z\"/><path d=\"M17.41 7.96l-1.37-1.37c-.4-.4-.92-.59-1.43-.59-.52 0-1.04.2-1.43.59L10.3 9.45l-7.72 7.72c-.78.78-.78 2.05 0 2.83L4 21.41c.39.39.9.59 1.41.59.51 0 1.02-.2 1.41-.59l7.78-7.78 2.81-2.81c.8-.78.8-2.07 0-2.86zM5.41 20L4 18.59l7.72-7.72 1.47 1.35L5.41 20z\"/>\n",
              "  </svg>\n",
              "      </button>\n",
              "      \n",
              "  <style>\n",
              "    .colab-df-container {\n",
              "      display:flex;\n",
              "      flex-wrap:wrap;\n",
              "      gap: 12px;\n",
              "    }\n",
              "\n",
              "    .colab-df-convert {\n",
              "      background-color: #E8F0FE;\n",
              "      border: none;\n",
              "      border-radius: 50%;\n",
              "      cursor: pointer;\n",
              "      display: none;\n",
              "      fill: #1967D2;\n",
              "      height: 32px;\n",
              "      padding: 0 0 0 0;\n",
              "      width: 32px;\n",
              "    }\n",
              "\n",
              "    .colab-df-convert:hover {\n",
              "      background-color: #E2EBFA;\n",
              "      box-shadow: 0px 1px 2px rgba(60, 64, 67, 0.3), 0px 1px 3px 1px rgba(60, 64, 67, 0.15);\n",
              "      fill: #174EA6;\n",
              "    }\n",
              "\n",
              "    [theme=dark] .colab-df-convert {\n",
              "      background-color: #3B4455;\n",
              "      fill: #D2E3FC;\n",
              "    }\n",
              "\n",
              "    [theme=dark] .colab-df-convert:hover {\n",
              "      background-color: #434B5C;\n",
              "      box-shadow: 0px 1px 3px 1px rgba(0, 0, 0, 0.15);\n",
              "      filter: drop-shadow(0px 1px 2px rgba(0, 0, 0, 0.3));\n",
              "      fill: #FFFFFF;\n",
              "    }\n",
              "  </style>\n",
              "\n",
              "      <script>\n",
              "        const buttonEl =\n",
              "          document.querySelector('#df-17575377-66fb-4d4f-9f0a-205b4b27ad44 button.colab-df-convert');\n",
              "        buttonEl.style.display =\n",
              "          google.colab.kernel.accessAllowed ? 'block' : 'none';\n",
              "\n",
              "        async function convertToInteractive(key) {\n",
              "          const element = document.querySelector('#df-17575377-66fb-4d4f-9f0a-205b4b27ad44');\n",
              "          const dataTable =\n",
              "            await google.colab.kernel.invokeFunction('convertToInteractive',\n",
              "                                                     [key], {});\n",
              "          if (!dataTable) return;\n",
              "\n",
              "          const docLinkHtml = 'Like what you see? Visit the ' +\n",
              "            '<a target=\"_blank\" href=https://colab.research.google.com/notebooks/data_table.ipynb>data table notebook</a>'\n",
              "            + ' to learn more about interactive tables.';\n",
              "          element.innerHTML = '';\n",
              "          dataTable['output_type'] = 'display_data';\n",
              "          await google.colab.output.renderOutput(dataTable, element);\n",
              "          const docLink = document.createElement('div');\n",
              "          docLink.innerHTML = docLinkHtml;\n",
              "          element.appendChild(docLink);\n",
              "        }\n",
              "      </script>\n",
              "    </div>\n",
              "  </div>\n",
              "  "
            ]
          },
          "metadata": {},
          "execution_count": 108
        }
      ]
    },
    {
      "cell_type": "code",
      "source": [
        "df_com = df_com.rename(columns={'Name.ID': 'ID'})\n",
        "df_com = df_com.replace('ID_14', 14)"
      ],
      "metadata": {
        "id": "f_29gK-sNC7h"
      },
      "execution_count": null,
      "outputs": []
    },
    {
      "cell_type": "code",
      "source": [
        "df_com.isna().sum()"
      ],
      "metadata": {
        "colab": {
          "base_uri": "https://localhost:8080/"
        },
        "id": "yw-1GDn8PbAo",
        "outputId": "7e72fec9-4cd1-4a85-b66e-9d527fd36d03"
      },
      "execution_count": null,
      "outputs": [
        {
          "output_type": "execute_result",
          "data": {
            "text/plain": [
              "Time          0\n",
              "therm_sens    0\n",
              "therm_pref    0\n",
              "location      0\n",
              "ID            0\n",
              "dtype: int64"
            ]
          },
          "metadata": {},
          "execution_count": 110
        }
      ]
    },
    {
      "cell_type": "code",
      "source": [
        "df_com_1 = df_com.query('ID == 14')\n",
        "df_com_1_prf = df_com_1['therm_pref']\n",
        "df_com_1_prf"
      ],
      "metadata": {
        "colab": {
          "base_uri": "https://localhost:8080/"
        },
        "id": "xBr4EY9jNENc",
        "outputId": "bbb70927-65d2-43b5-b1be-9b96fa57cf06"
      },
      "execution_count": null,
      "outputs": [
        {
          "output_type": "execute_result",
          "data": {
            "text/plain": [
              "3535    No Change\n",
              "3536    No Change\n",
              "3537       Warmer\n",
              "3538    No Change\n",
              "3539       Cooler\n",
              "          ...    \n",
              "3852    No Change\n",
              "3853    No Change\n",
              "3854    No Change\n",
              "3855    No Change\n",
              "3856    No Change\n",
              "Name: therm_pref, Length: 322, dtype: object"
            ]
          },
          "metadata": {},
          "execution_count": 111
        }
      ]
    },
    {
      "cell_type": "code",
      "source": [
        "from sklearn.preprocessing import OneHotEncoder\n",
        "encoder = OneHotEncoder(sparse=False)\n",
        "df_com_1_prf = encoder.fit_transform(df_com_1_prf.values.reshape(-1,1))\n",
        "df_com_1_prf"
      ],
      "metadata": {
        "colab": {
          "base_uri": "https://localhost:8080/"
        },
        "id": "I1sGbb5JS0IY",
        "outputId": "d190b588-5e39-4ec4-d292-34543c5306d6"
      },
      "execution_count": null,
      "outputs": [
        {
          "output_type": "stream",
          "name": "stderr",
          "text": [
            "/usr/local/lib/python3.10/dist-packages/sklearn/preprocessing/_encoders.py:868: FutureWarning: `sparse` was renamed to `sparse_output` in version 1.2 and will be removed in 1.4. `sparse_output` is ignored unless you leave `sparse` to its default value.\n",
            "  warnings.warn(\n"
          ]
        },
        {
          "output_type": "execute_result",
          "data": {
            "text/plain": [
              "array([[0., 1., 0.],\n",
              "       [0., 1., 0.],\n",
              "       [0., 0., 1.],\n",
              "       [0., 1., 0.],\n",
              "       [1., 0., 0.],\n",
              "       [0., 1., 0.],\n",
              "       [0., 1., 0.],\n",
              "       [0., 0., 1.],\n",
              "       [0., 0., 1.],\n",
              "       [0., 1., 0.],\n",
              "       [0., 1., 0.],\n",
              "       [0., 1., 0.],\n",
              "       [0., 0., 1.],\n",
              "       [0., 1., 0.],\n",
              "       [0., 1., 0.],\n",
              "       [0., 1., 0.],\n",
              "       [0., 1., 0.],\n",
              "       [0., 1., 0.],\n",
              "       [0., 1., 0.],\n",
              "       [0., 1., 0.],\n",
              "       [0., 1., 0.],\n",
              "       [0., 1., 0.],\n",
              "       [0., 1., 0.],\n",
              "       [1., 0., 0.],\n",
              "       [0., 0., 1.],\n",
              "       [0., 1., 0.],\n",
              "       [0., 1., 0.],\n",
              "       [0., 1., 0.],\n",
              "       [0., 1., 0.],\n",
              "       [0., 1., 0.],\n",
              "       [0., 1., 0.],\n",
              "       [0., 1., 0.],\n",
              "       [0., 0., 1.],\n",
              "       [0., 0., 1.],\n",
              "       [0., 1., 0.],\n",
              "       [0., 0., 1.],\n",
              "       [0., 1., 0.],\n",
              "       [0., 0., 1.],\n",
              "       [0., 0., 1.],\n",
              "       [0., 0., 1.],\n",
              "       [0., 1., 0.],\n",
              "       [0., 1., 0.],\n",
              "       [0., 1., 0.],\n",
              "       [0., 1., 0.],\n",
              "       [0., 1., 0.],\n",
              "       [0., 1., 0.],\n",
              "       [0., 1., 0.],\n",
              "       [0., 0., 1.],\n",
              "       [0., 1., 0.],\n",
              "       [0., 1., 0.],\n",
              "       [0., 1., 0.],\n",
              "       [0., 1., 0.],\n",
              "       [0., 1., 0.],\n",
              "       [0., 1., 0.],\n",
              "       [1., 0., 0.],\n",
              "       [0., 1., 0.],\n",
              "       [0., 1., 0.],\n",
              "       [0., 0., 1.],\n",
              "       [0., 0., 1.],\n",
              "       [0., 1., 0.],\n",
              "       [0., 1., 0.],\n",
              "       [0., 1., 0.],\n",
              "       [0., 1., 0.],\n",
              "       [0., 1., 0.],\n",
              "       [0., 0., 1.],\n",
              "       [0., 1., 0.],\n",
              "       [0., 0., 1.],\n",
              "       [0., 1., 0.],\n",
              "       [0., 1., 0.],\n",
              "       [0., 1., 0.],\n",
              "       [0., 1., 0.],\n",
              "       [0., 1., 0.],\n",
              "       [0., 1., 0.],\n",
              "       [0., 1., 0.],\n",
              "       [0., 1., 0.],\n",
              "       [0., 1., 0.],\n",
              "       [0., 1., 0.],\n",
              "       [0., 1., 0.],\n",
              "       [0., 1., 0.],\n",
              "       [0., 1., 0.],\n",
              "       [0., 1., 0.],\n",
              "       [0., 1., 0.],\n",
              "       [0., 1., 0.],\n",
              "       [0., 1., 0.],\n",
              "       [0., 0., 1.],\n",
              "       [0., 0., 1.],\n",
              "       [0., 1., 0.],\n",
              "       [0., 1., 0.],\n",
              "       [0., 1., 0.],\n",
              "       [0., 1., 0.],\n",
              "       [0., 1., 0.],\n",
              "       [0., 1., 0.],\n",
              "       [1., 0., 0.],\n",
              "       [1., 0., 0.],\n",
              "       [0., 1., 0.],\n",
              "       [0., 1., 0.],\n",
              "       [0., 0., 1.],\n",
              "       [0., 1., 0.],\n",
              "       [0., 1., 0.],\n",
              "       [0., 1., 0.],\n",
              "       [0., 1., 0.],\n",
              "       [0., 1., 0.],\n",
              "       [0., 1., 0.],\n",
              "       [0., 1., 0.],\n",
              "       [0., 1., 0.],\n",
              "       [0., 1., 0.],\n",
              "       [0., 1., 0.],\n",
              "       [0., 0., 1.],\n",
              "       [0., 0., 1.],\n",
              "       [1., 0., 0.],\n",
              "       [0., 1., 0.],\n",
              "       [0., 1., 0.],\n",
              "       [1., 0., 0.],\n",
              "       [1., 0., 0.],\n",
              "       [0., 1., 0.],\n",
              "       [0., 1., 0.],\n",
              "       [0., 1., 0.],\n",
              "       [0., 1., 0.],\n",
              "       [0., 1., 0.],\n",
              "       [0., 1., 0.],\n",
              "       [0., 1., 0.],\n",
              "       [0., 1., 0.],\n",
              "       [0., 1., 0.],\n",
              "       [1., 0., 0.],\n",
              "       [0., 1., 0.],\n",
              "       [0., 1., 0.],\n",
              "       [0., 1., 0.],\n",
              "       [0., 1., 0.],\n",
              "       [0., 1., 0.],\n",
              "       [0., 1., 0.],\n",
              "       [0., 1., 0.],\n",
              "       [0., 1., 0.],\n",
              "       [0., 1., 0.],\n",
              "       [0., 1., 0.],\n",
              "       [0., 1., 0.],\n",
              "       [0., 1., 0.],\n",
              "       [1., 0., 0.],\n",
              "       [0., 1., 0.],\n",
              "       [0., 1., 0.],\n",
              "       [0., 1., 0.],\n",
              "       [0., 1., 0.],\n",
              "       [0., 1., 0.],\n",
              "       [0., 1., 0.],\n",
              "       [0., 1., 0.],\n",
              "       [0., 0., 1.],\n",
              "       [0., 0., 1.],\n",
              "       [0., 1., 0.],\n",
              "       [0., 1., 0.],\n",
              "       [0., 1., 0.],\n",
              "       [0., 1., 0.],\n",
              "       [0., 1., 0.],\n",
              "       [0., 1., 0.],\n",
              "       [0., 1., 0.],\n",
              "       [1., 0., 0.],\n",
              "       [0., 1., 0.],\n",
              "       [0., 1., 0.],\n",
              "       [0., 1., 0.],\n",
              "       [0., 1., 0.],\n",
              "       [0., 1., 0.],\n",
              "       [0., 1., 0.],\n",
              "       [0., 1., 0.],\n",
              "       [0., 1., 0.],\n",
              "       [0., 1., 0.],\n",
              "       [0., 1., 0.],\n",
              "       [0., 1., 0.],\n",
              "       [0., 1., 0.],\n",
              "       [0., 1., 0.],\n",
              "       [0., 1., 0.],\n",
              "       [0., 1., 0.],\n",
              "       [0., 1., 0.],\n",
              "       [0., 1., 0.],\n",
              "       [0., 1., 0.],\n",
              "       [0., 1., 0.],\n",
              "       [0., 1., 0.],\n",
              "       [0., 1., 0.],\n",
              "       [0., 1., 0.],\n",
              "       [0., 1., 0.],\n",
              "       [0., 1., 0.],\n",
              "       [0., 1., 0.],\n",
              "       [0., 1., 0.],\n",
              "       [0., 0., 1.],\n",
              "       [0., 1., 0.],\n",
              "       [0., 1., 0.],\n",
              "       [0., 0., 1.],\n",
              "       [0., 1., 0.],\n",
              "       [0., 1., 0.],\n",
              "       [0., 1., 0.],\n",
              "       [0., 1., 0.],\n",
              "       [0., 1., 0.],\n",
              "       [0., 1., 0.],\n",
              "       [0., 1., 0.],\n",
              "       [0., 0., 1.],\n",
              "       [0., 0., 1.],\n",
              "       [0., 0., 1.],\n",
              "       [0., 1., 0.],\n",
              "       [0., 1., 0.],\n",
              "       [0., 1., 0.],\n",
              "       [0., 1., 0.],\n",
              "       [0., 1., 0.],\n",
              "       [0., 0., 1.],\n",
              "       [0., 1., 0.],\n",
              "       [0., 1., 0.],\n",
              "       [0., 1., 0.],\n",
              "       [0., 0., 1.],\n",
              "       [0., 1., 0.],\n",
              "       [0., 1., 0.],\n",
              "       [0., 0., 1.],\n",
              "       [0., 0., 1.],\n",
              "       [0., 1., 0.],\n",
              "       [0., 1., 0.],\n",
              "       [0., 1., 0.],\n",
              "       [0., 1., 0.],\n",
              "       [0., 0., 1.],\n",
              "       [0., 1., 0.],\n",
              "       [0., 0., 1.],\n",
              "       [0., 1., 0.],\n",
              "       [0., 1., 0.],\n",
              "       [0., 1., 0.],\n",
              "       [0., 1., 0.],\n",
              "       [0., 1., 0.],\n",
              "       [0., 1., 0.],\n",
              "       [0., 1., 0.],\n",
              "       [0., 1., 0.],\n",
              "       [0., 1., 0.],\n",
              "       [0., 1., 0.],\n",
              "       [0., 1., 0.],\n",
              "       [0., 1., 0.],\n",
              "       [0., 1., 0.],\n",
              "       [0., 1., 0.],\n",
              "       [0., 1., 0.],\n",
              "       [0., 1., 0.],\n",
              "       [0., 1., 0.],\n",
              "       [0., 1., 0.],\n",
              "       [0., 1., 0.],\n",
              "       [0., 1., 0.],\n",
              "       [0., 0., 1.],\n",
              "       [0., 1., 0.],\n",
              "       [0., 1., 0.],\n",
              "       [0., 1., 0.],\n",
              "       [0., 1., 0.],\n",
              "       [0., 1., 0.],\n",
              "       [0., 1., 0.],\n",
              "       [0., 1., 0.],\n",
              "       [0., 1., 0.],\n",
              "       [0., 1., 0.],\n",
              "       [0., 1., 0.],\n",
              "       [0., 1., 0.],\n",
              "       [0., 1., 0.],\n",
              "       [0., 1., 0.],\n",
              "       [0., 1., 0.],\n",
              "       [0., 1., 0.],\n",
              "       [0., 1., 0.],\n",
              "       [0., 1., 0.],\n",
              "       [0., 1., 0.],\n",
              "       [0., 1., 0.],\n",
              "       [0., 1., 0.],\n",
              "       [0., 1., 0.],\n",
              "       [0., 1., 0.],\n",
              "       [0., 1., 0.],\n",
              "       [0., 1., 0.],\n",
              "       [0., 0., 1.],\n",
              "       [0., 1., 0.],\n",
              "       [0., 0., 1.],\n",
              "       [0., 1., 0.],\n",
              "       [0., 1., 0.],\n",
              "       [0., 0., 1.],\n",
              "       [0., 1., 0.],\n",
              "       [0., 1., 0.],\n",
              "       [0., 1., 0.],\n",
              "       [0., 1., 0.],\n",
              "       [0., 1., 0.],\n",
              "       [0., 1., 0.],\n",
              "       [0., 0., 1.],\n",
              "       [0., 1., 0.],\n",
              "       [0., 0., 1.],\n",
              "       [0., 0., 1.],\n",
              "       [0., 0., 1.],\n",
              "       [0., 1., 0.],\n",
              "       [0., 1., 0.],\n",
              "       [0., 1., 0.],\n",
              "       [0., 1., 0.],\n",
              "       [0., 1., 0.],\n",
              "       [0., 1., 0.],\n",
              "       [0., 1., 0.],\n",
              "       [0., 1., 0.],\n",
              "       [0., 1., 0.],\n",
              "       [0., 0., 1.],\n",
              "       [0., 1., 0.],\n",
              "       [0., 1., 0.],\n",
              "       [0., 1., 0.],\n",
              "       [0., 1., 0.],\n",
              "       [0., 1., 0.],\n",
              "       [0., 1., 0.],\n",
              "       [0., 1., 0.],\n",
              "       [0., 1., 0.],\n",
              "       [0., 1., 0.],\n",
              "       [0., 1., 0.],\n",
              "       [0., 1., 0.],\n",
              "       [0., 1., 0.],\n",
              "       [0., 1., 0.],\n",
              "       [0., 1., 0.],\n",
              "       [0., 1., 0.],\n",
              "       [0., 1., 0.],\n",
              "       [0., 1., 0.],\n",
              "       [0., 1., 0.],\n",
              "       [0., 1., 0.],\n",
              "       [1., 0., 0.],\n",
              "       [0., 1., 0.],\n",
              "       [0., 1., 0.],\n",
              "       [0., 0., 1.],\n",
              "       [0., 1., 0.],\n",
              "       [0., 1., 0.],\n",
              "       [0., 1., 0.],\n",
              "       [0., 0., 1.],\n",
              "       [0., 1., 0.],\n",
              "       [0., 1., 0.],\n",
              "       [0., 1., 0.],\n",
              "       [0., 1., 0.],\n",
              "       [0., 1., 0.],\n",
              "       [0., 1., 0.],\n",
              "       [0., 1., 0.],\n",
              "       [0., 1., 0.]])"
            ]
          },
          "metadata": {},
          "execution_count": 112
        }
      ]
    },
    {
      "cell_type": "code",
      "source": [
        "#df_wea['Humidity'] = df_wea['Humidity'].str.strip('%') \n",
        "df_wea['Humidity'] = df_wea['Humidity'].astype(float)\n",
        "df_wea[['Temperature ', 'Humidity']]= scaler.fit_transform(df_wea[['Temperature ', 'Humidity']])\n",
        "df_wea"
      ],
      "metadata": {
        "colab": {
          "base_uri": "https://localhost:8080/",
          "height": 419
        },
        "id": "ow51NAPyTFVk",
        "outputId": "69012741-23dc-41fb-f25d-5be88de8ffeb"
      },
      "execution_count": null,
      "outputs": [
        {
          "output_type": "execute_result",
          "data": {
            "text/plain": [
              "                  Time  Temperature   Dew Point  Humidity  Wind Wind Speed   \\\n",
              "0       8/31/2015 0:53      0.350968        NaN  0.160199   NaN     No wind   \n",
              "1       8/31/2015 1:53      0.350968        NaN  0.328958   NaN         3.1   \n",
              "2       8/31/2015 2:53      0.487905        NaN  0.272705   NaN         2.2   \n",
              "3       8/31/2015 3:53      0.738956        NaN  0.160199   NaN           4   \n",
              "4       8/31/2015 4:53      0.738956        NaN  0.160199   NaN           4   \n",
              "...                ...           ...        ...       ...   ...         ...   \n",
              "44738  6/28/2017 23:30     -0.516300       10.8  0.891486   SSE         1.3   \n",
              "44739  6/28/2017 23:40     -0.539122       10.9  0.947739  East         2.7   \n",
              "44740  6/28/2017 23:45     -0.539122       10.9  0.947739  East         1.3   \n",
              "44741  6/28/2017 23:50     -0.539122       10.9  0.947739   SSE         1.8   \n",
              "44742  6/28/2017 23:55     -0.561945       10.8  0.947739   SSE         1.8   \n",
              "\n",
              "       Wind gust  Pressure  Precip Rate  Precip Accu   UV  Solar  \n",
              "0            NaN       NaN          NaN          NaN  NaN    NaN  \n",
              "1            NaN       NaN          NaN          NaN  NaN    NaN  \n",
              "2            NaN       NaN          NaN          NaN  NaN    NaN  \n",
              "3            NaN       NaN          NaN          NaN  NaN    NaN  \n",
              "4            NaN       NaN          NaN          NaN  NaN    NaN  \n",
              "...          ...       ...          ...          ...  ...    ...  \n",
              "44738        2.2      29.9          0.0          0.0  0.0    0.0  \n",
              "44739        4.5      29.9          0.0          0.0  0.0    0.0  \n",
              "44740        4.0      29.9          0.0          0.0  0.0    0.0  \n",
              "44741        4.9      29.9          0.0          0.0  0.0    0.0  \n",
              "44742        3.1      29.9          0.0          0.0  0.0    0.0  \n",
              "\n",
              "[44743 rows x 12 columns]"
            ],
            "text/html": [
              "\n",
              "  <div id=\"df-6438b0f0-ae4f-426c-bad4-f8580a85ad80\">\n",
              "    <div class=\"colab-df-container\">\n",
              "      <div>\n",
              "<style scoped>\n",
              "    .dataframe tbody tr th:only-of-type {\n",
              "        vertical-align: middle;\n",
              "    }\n",
              "\n",
              "    .dataframe tbody tr th {\n",
              "        vertical-align: top;\n",
              "    }\n",
              "\n",
              "    .dataframe thead th {\n",
              "        text-align: right;\n",
              "    }\n",
              "</style>\n",
              "<table border=\"1\" class=\"dataframe\">\n",
              "  <thead>\n",
              "    <tr style=\"text-align: right;\">\n",
              "      <th></th>\n",
              "      <th>Time</th>\n",
              "      <th>Temperature</th>\n",
              "      <th>Dew Point</th>\n",
              "      <th>Humidity</th>\n",
              "      <th>Wind</th>\n",
              "      <th>Wind Speed</th>\n",
              "      <th>Wind gust</th>\n",
              "      <th>Pressure</th>\n",
              "      <th>Precip Rate</th>\n",
              "      <th>Precip Accu</th>\n",
              "      <th>UV</th>\n",
              "      <th>Solar</th>\n",
              "    </tr>\n",
              "  </thead>\n",
              "  <tbody>\n",
              "    <tr>\n",
              "      <th>0</th>\n",
              "      <td>8/31/2015 0:53</td>\n",
              "      <td>0.350968</td>\n",
              "      <td>NaN</td>\n",
              "      <td>0.160199</td>\n",
              "      <td>NaN</td>\n",
              "      <td>No wind</td>\n",
              "      <td>NaN</td>\n",
              "      <td>NaN</td>\n",
              "      <td>NaN</td>\n",
              "      <td>NaN</td>\n",
              "      <td>NaN</td>\n",
              "      <td>NaN</td>\n",
              "    </tr>\n",
              "    <tr>\n",
              "      <th>1</th>\n",
              "      <td>8/31/2015 1:53</td>\n",
              "      <td>0.350968</td>\n",
              "      <td>NaN</td>\n",
              "      <td>0.328958</td>\n",
              "      <td>NaN</td>\n",
              "      <td>3.1</td>\n",
              "      <td>NaN</td>\n",
              "      <td>NaN</td>\n",
              "      <td>NaN</td>\n",
              "      <td>NaN</td>\n",
              "      <td>NaN</td>\n",
              "      <td>NaN</td>\n",
              "    </tr>\n",
              "    <tr>\n",
              "      <th>2</th>\n",
              "      <td>8/31/2015 2:53</td>\n",
              "      <td>0.487905</td>\n",
              "      <td>NaN</td>\n",
              "      <td>0.272705</td>\n",
              "      <td>NaN</td>\n",
              "      <td>2.2</td>\n",
              "      <td>NaN</td>\n",
              "      <td>NaN</td>\n",
              "      <td>NaN</td>\n",
              "      <td>NaN</td>\n",
              "      <td>NaN</td>\n",
              "      <td>NaN</td>\n",
              "    </tr>\n",
              "    <tr>\n",
              "      <th>3</th>\n",
              "      <td>8/31/2015 3:53</td>\n",
              "      <td>0.738956</td>\n",
              "      <td>NaN</td>\n",
              "      <td>0.160199</td>\n",
              "      <td>NaN</td>\n",
              "      <td>4</td>\n",
              "      <td>NaN</td>\n",
              "      <td>NaN</td>\n",
              "      <td>NaN</td>\n",
              "      <td>NaN</td>\n",
              "      <td>NaN</td>\n",
              "      <td>NaN</td>\n",
              "    </tr>\n",
              "    <tr>\n",
              "      <th>4</th>\n",
              "      <td>8/31/2015 4:53</td>\n",
              "      <td>0.738956</td>\n",
              "      <td>NaN</td>\n",
              "      <td>0.160199</td>\n",
              "      <td>NaN</td>\n",
              "      <td>4</td>\n",
              "      <td>NaN</td>\n",
              "      <td>NaN</td>\n",
              "      <td>NaN</td>\n",
              "      <td>NaN</td>\n",
              "      <td>NaN</td>\n",
              "      <td>NaN</td>\n",
              "    </tr>\n",
              "    <tr>\n",
              "      <th>...</th>\n",
              "      <td>...</td>\n",
              "      <td>...</td>\n",
              "      <td>...</td>\n",
              "      <td>...</td>\n",
              "      <td>...</td>\n",
              "      <td>...</td>\n",
              "      <td>...</td>\n",
              "      <td>...</td>\n",
              "      <td>...</td>\n",
              "      <td>...</td>\n",
              "      <td>...</td>\n",
              "      <td>...</td>\n",
              "    </tr>\n",
              "    <tr>\n",
              "      <th>44738</th>\n",
              "      <td>6/28/2017 23:30</td>\n",
              "      <td>-0.516300</td>\n",
              "      <td>10.8</td>\n",
              "      <td>0.891486</td>\n",
              "      <td>SSE</td>\n",
              "      <td>1.3</td>\n",
              "      <td>2.2</td>\n",
              "      <td>29.9</td>\n",
              "      <td>0.0</td>\n",
              "      <td>0.0</td>\n",
              "      <td>0.0</td>\n",
              "      <td>0.0</td>\n",
              "    </tr>\n",
              "    <tr>\n",
              "      <th>44739</th>\n",
              "      <td>6/28/2017 23:40</td>\n",
              "      <td>-0.539122</td>\n",
              "      <td>10.9</td>\n",
              "      <td>0.947739</td>\n",
              "      <td>East</td>\n",
              "      <td>2.7</td>\n",
              "      <td>4.5</td>\n",
              "      <td>29.9</td>\n",
              "      <td>0.0</td>\n",
              "      <td>0.0</td>\n",
              "      <td>0.0</td>\n",
              "      <td>0.0</td>\n",
              "    </tr>\n",
              "    <tr>\n",
              "      <th>44740</th>\n",
              "      <td>6/28/2017 23:45</td>\n",
              "      <td>-0.539122</td>\n",
              "      <td>10.9</td>\n",
              "      <td>0.947739</td>\n",
              "      <td>East</td>\n",
              "      <td>1.3</td>\n",
              "      <td>4.0</td>\n",
              "      <td>29.9</td>\n",
              "      <td>0.0</td>\n",
              "      <td>0.0</td>\n",
              "      <td>0.0</td>\n",
              "      <td>0.0</td>\n",
              "    </tr>\n",
              "    <tr>\n",
              "      <th>44741</th>\n",
              "      <td>6/28/2017 23:50</td>\n",
              "      <td>-0.539122</td>\n",
              "      <td>10.9</td>\n",
              "      <td>0.947739</td>\n",
              "      <td>SSE</td>\n",
              "      <td>1.8</td>\n",
              "      <td>4.9</td>\n",
              "      <td>29.9</td>\n",
              "      <td>0.0</td>\n",
              "      <td>0.0</td>\n",
              "      <td>0.0</td>\n",
              "      <td>0.0</td>\n",
              "    </tr>\n",
              "    <tr>\n",
              "      <th>44742</th>\n",
              "      <td>6/28/2017 23:55</td>\n",
              "      <td>-0.561945</td>\n",
              "      <td>10.8</td>\n",
              "      <td>0.947739</td>\n",
              "      <td>SSE</td>\n",
              "      <td>1.8</td>\n",
              "      <td>3.1</td>\n",
              "      <td>29.9</td>\n",
              "      <td>0.0</td>\n",
              "      <td>0.0</td>\n",
              "      <td>0.0</td>\n",
              "      <td>0.0</td>\n",
              "    </tr>\n",
              "  </tbody>\n",
              "</table>\n",
              "<p>44743 rows × 12 columns</p>\n",
              "</div>\n",
              "      <button class=\"colab-df-convert\" onclick=\"convertToInteractive('df-6438b0f0-ae4f-426c-bad4-f8580a85ad80')\"\n",
              "              title=\"Convert this dataframe to an interactive table.\"\n",
              "              style=\"display:none;\">\n",
              "        \n",
              "  <svg xmlns=\"http://www.w3.org/2000/svg\" height=\"24px\"viewBox=\"0 0 24 24\"\n",
              "       width=\"24px\">\n",
              "    <path d=\"M0 0h24v24H0V0z\" fill=\"none\"/>\n",
              "    <path d=\"M18.56 5.44l.94 2.06.94-2.06 2.06-.94-2.06-.94-.94-2.06-.94 2.06-2.06.94zm-11 1L8.5 8.5l.94-2.06 2.06-.94-2.06-.94L8.5 2.5l-.94 2.06-2.06.94zm10 10l.94 2.06.94-2.06 2.06-.94-2.06-.94-.94-2.06-.94 2.06-2.06.94z\"/><path d=\"M17.41 7.96l-1.37-1.37c-.4-.4-.92-.59-1.43-.59-.52 0-1.04.2-1.43.59L10.3 9.45l-7.72 7.72c-.78.78-.78 2.05 0 2.83L4 21.41c.39.39.9.59 1.41.59.51 0 1.02-.2 1.41-.59l7.78-7.78 2.81-2.81c.8-.78.8-2.07 0-2.86zM5.41 20L4 18.59l7.72-7.72 1.47 1.35L5.41 20z\"/>\n",
              "  </svg>\n",
              "      </button>\n",
              "      \n",
              "  <style>\n",
              "    .colab-df-container {\n",
              "      display:flex;\n",
              "      flex-wrap:wrap;\n",
              "      gap: 12px;\n",
              "    }\n",
              "\n",
              "    .colab-df-convert {\n",
              "      background-color: #E8F0FE;\n",
              "      border: none;\n",
              "      border-radius: 50%;\n",
              "      cursor: pointer;\n",
              "      display: none;\n",
              "      fill: #1967D2;\n",
              "      height: 32px;\n",
              "      padding: 0 0 0 0;\n",
              "      width: 32px;\n",
              "    }\n",
              "\n",
              "    .colab-df-convert:hover {\n",
              "      background-color: #E2EBFA;\n",
              "      box-shadow: 0px 1px 2px rgba(60, 64, 67, 0.3), 0px 1px 3px 1px rgba(60, 64, 67, 0.15);\n",
              "      fill: #174EA6;\n",
              "    }\n",
              "\n",
              "    [theme=dark] .colab-df-convert {\n",
              "      background-color: #3B4455;\n",
              "      fill: #D2E3FC;\n",
              "    }\n",
              "\n",
              "    [theme=dark] .colab-df-convert:hover {\n",
              "      background-color: #434B5C;\n",
              "      box-shadow: 0px 1px 3px 1px rgba(0, 0, 0, 0.15);\n",
              "      filter: drop-shadow(0px 1px 2px rgba(0, 0, 0, 0.3));\n",
              "      fill: #FFFFFF;\n",
              "    }\n",
              "  </style>\n",
              "\n",
              "      <script>\n",
              "        const buttonEl =\n",
              "          document.querySelector('#df-6438b0f0-ae4f-426c-bad4-f8580a85ad80 button.colab-df-convert');\n",
              "        buttonEl.style.display =\n",
              "          google.colab.kernel.accessAllowed ? 'block' : 'none';\n",
              "\n",
              "        async function convertToInteractive(key) {\n",
              "          const element = document.querySelector('#df-6438b0f0-ae4f-426c-bad4-f8580a85ad80');\n",
              "          const dataTable =\n",
              "            await google.colab.kernel.invokeFunction('convertToInteractive',\n",
              "                                                     [key], {});\n",
              "          if (!dataTable) return;\n",
              "\n",
              "          const docLinkHtml = 'Like what you see? Visit the ' +\n",
              "            '<a target=\"_blank\" href=https://colab.research.google.com/notebooks/data_table.ipynb>data table notebook</a>'\n",
              "            + ' to learn more about interactive tables.';\n",
              "          element.innerHTML = '';\n",
              "          dataTable['output_type'] = 'display_data';\n",
              "          await google.colab.output.renderOutput(dataTable, element);\n",
              "          const docLink = document.createElement('div');\n",
              "          docLink.innerHTML = docLinkHtml;\n",
              "          element.appendChild(docLink);\n",
              "        }\n",
              "      </script>\n",
              "    </div>\n",
              "  </div>\n",
              "  "
            ]
          },
          "metadata": {},
          "execution_count": 113
        }
      ]
    },
    {
      "cell_type": "code",
      "source": [
        "df_skin_1 = df_skin_1.iloc[57:]\n",
        "df_skin_1 = df_skin_1.iloc[:-57]\n",
        "df_skin_1"
      ],
      "metadata": {
        "colab": {
          "base_uri": "https://localhost:8080/",
          "height": 419
        },
        "id": "c5PcTCe8NFKz",
        "outputId": "59816670-f414-481b-82ba-6e2059cc7653"
      },
      "execution_count": null,
      "outputs": [
        {
          "output_type": "execute_result",
          "data": {
            "text/plain": [
              "                        Time Position  Value        Serial No.  ID  \\\n",
              "949465   2017-05-13 10:54:01    Ankle  31.38          3.50E+53  14   \n",
              "949466   2017-05-13 10:55:01    Ankle  31.38          3.50E+53  14   \n",
              "949467   2017-05-13 10:56:01    Ankle  31.32          3.50E+53  14   \n",
              "949468   2017-05-13 10:57:01    Ankle  31.32          3.50E+53  14   \n",
              "949469   2017-05-13 10:58:01    Ankle  31.13          3.50E+53  14   \n",
              "...                      ...      ...    ...               ...  ..   \n",
              "1024808  2017-06-02 12:41:01    Wrist  23.33  84000000508C3841  14   \n",
              "1024809  2017-06-02 12:42:01    Wrist  23.33  84000000508C3841  14   \n",
              "1024810  2017-06-02 12:43:01    Wrist  23.33  84000000508C3841  14   \n",
              "1024811  2017-06-02 12:44:01    Wrist  23.33  84000000508C3841  14   \n",
              "1024812  2017-06-02 12:45:01    Wrist  23.33  84000000508C3841  14   \n",
              "\n",
              "         Calibrated Value  \n",
              "949465           0.775572  \n",
              "949466           0.775572  \n",
              "949467           0.765829  \n",
              "949468           0.765829  \n",
              "949469           0.734978  \n",
              "...                   ...  \n",
              "1024808         -0.434125  \n",
              "1024809         -0.434125  \n",
              "1024810         -0.434125  \n",
              "1024811         -0.434125  \n",
              "1024812         -0.434125  \n",
              "\n",
              "[75348 rows x 6 columns]"
            ],
            "text/html": [
              "\n",
              "  <div id=\"df-c31b1708-cfc2-40a8-ae9c-ce83d6c8b766\">\n",
              "    <div class=\"colab-df-container\">\n",
              "      <div>\n",
              "<style scoped>\n",
              "    .dataframe tbody tr th:only-of-type {\n",
              "        vertical-align: middle;\n",
              "    }\n",
              "\n",
              "    .dataframe tbody tr th {\n",
              "        vertical-align: top;\n",
              "    }\n",
              "\n",
              "    .dataframe thead th {\n",
              "        text-align: right;\n",
              "    }\n",
              "</style>\n",
              "<table border=\"1\" class=\"dataframe\">\n",
              "  <thead>\n",
              "    <tr style=\"text-align: right;\">\n",
              "      <th></th>\n",
              "      <th>Time</th>\n",
              "      <th>Position</th>\n",
              "      <th>Value</th>\n",
              "      <th>Serial No.</th>\n",
              "      <th>ID</th>\n",
              "      <th>Calibrated Value</th>\n",
              "    </tr>\n",
              "  </thead>\n",
              "  <tbody>\n",
              "    <tr>\n",
              "      <th>949465</th>\n",
              "      <td>2017-05-13 10:54:01</td>\n",
              "      <td>Ankle</td>\n",
              "      <td>31.38</td>\n",
              "      <td>3.50E+53</td>\n",
              "      <td>14</td>\n",
              "      <td>0.775572</td>\n",
              "    </tr>\n",
              "    <tr>\n",
              "      <th>949466</th>\n",
              "      <td>2017-05-13 10:55:01</td>\n",
              "      <td>Ankle</td>\n",
              "      <td>31.38</td>\n",
              "      <td>3.50E+53</td>\n",
              "      <td>14</td>\n",
              "      <td>0.775572</td>\n",
              "    </tr>\n",
              "    <tr>\n",
              "      <th>949467</th>\n",
              "      <td>2017-05-13 10:56:01</td>\n",
              "      <td>Ankle</td>\n",
              "      <td>31.32</td>\n",
              "      <td>3.50E+53</td>\n",
              "      <td>14</td>\n",
              "      <td>0.765829</td>\n",
              "    </tr>\n",
              "    <tr>\n",
              "      <th>949468</th>\n",
              "      <td>2017-05-13 10:57:01</td>\n",
              "      <td>Ankle</td>\n",
              "      <td>31.32</td>\n",
              "      <td>3.50E+53</td>\n",
              "      <td>14</td>\n",
              "      <td>0.765829</td>\n",
              "    </tr>\n",
              "    <tr>\n",
              "      <th>949469</th>\n",
              "      <td>2017-05-13 10:58:01</td>\n",
              "      <td>Ankle</td>\n",
              "      <td>31.13</td>\n",
              "      <td>3.50E+53</td>\n",
              "      <td>14</td>\n",
              "      <td>0.734978</td>\n",
              "    </tr>\n",
              "    <tr>\n",
              "      <th>...</th>\n",
              "      <td>...</td>\n",
              "      <td>...</td>\n",
              "      <td>...</td>\n",
              "      <td>...</td>\n",
              "      <td>...</td>\n",
              "      <td>...</td>\n",
              "    </tr>\n",
              "    <tr>\n",
              "      <th>1024808</th>\n",
              "      <td>2017-06-02 12:41:01</td>\n",
              "      <td>Wrist</td>\n",
              "      <td>23.33</td>\n",
              "      <td>84000000508C3841</td>\n",
              "      <td>14</td>\n",
              "      <td>-0.434125</td>\n",
              "    </tr>\n",
              "    <tr>\n",
              "      <th>1024809</th>\n",
              "      <td>2017-06-02 12:42:01</td>\n",
              "      <td>Wrist</td>\n",
              "      <td>23.33</td>\n",
              "      <td>84000000508C3841</td>\n",
              "      <td>14</td>\n",
              "      <td>-0.434125</td>\n",
              "    </tr>\n",
              "    <tr>\n",
              "      <th>1024810</th>\n",
              "      <td>2017-06-02 12:43:01</td>\n",
              "      <td>Wrist</td>\n",
              "      <td>23.33</td>\n",
              "      <td>84000000508C3841</td>\n",
              "      <td>14</td>\n",
              "      <td>-0.434125</td>\n",
              "    </tr>\n",
              "    <tr>\n",
              "      <th>1024811</th>\n",
              "      <td>2017-06-02 12:44:01</td>\n",
              "      <td>Wrist</td>\n",
              "      <td>23.33</td>\n",
              "      <td>84000000508C3841</td>\n",
              "      <td>14</td>\n",
              "      <td>-0.434125</td>\n",
              "    </tr>\n",
              "    <tr>\n",
              "      <th>1024812</th>\n",
              "      <td>2017-06-02 12:45:01</td>\n",
              "      <td>Wrist</td>\n",
              "      <td>23.33</td>\n",
              "      <td>84000000508C3841</td>\n",
              "      <td>14</td>\n",
              "      <td>-0.434125</td>\n",
              "    </tr>\n",
              "  </tbody>\n",
              "</table>\n",
              "<p>75348 rows × 6 columns</p>\n",
              "</div>\n",
              "      <button class=\"colab-df-convert\" onclick=\"convertToInteractive('df-c31b1708-cfc2-40a8-ae9c-ce83d6c8b766')\"\n",
              "              title=\"Convert this dataframe to an interactive table.\"\n",
              "              style=\"display:none;\">\n",
              "        \n",
              "  <svg xmlns=\"http://www.w3.org/2000/svg\" height=\"24px\"viewBox=\"0 0 24 24\"\n",
              "       width=\"24px\">\n",
              "    <path d=\"M0 0h24v24H0V0z\" fill=\"none\"/>\n",
              "    <path d=\"M18.56 5.44l.94 2.06.94-2.06 2.06-.94-2.06-.94-.94-2.06-.94 2.06-2.06.94zm-11 1L8.5 8.5l.94-2.06 2.06-.94-2.06-.94L8.5 2.5l-.94 2.06-2.06.94zm10 10l.94 2.06.94-2.06 2.06-.94-2.06-.94-.94-2.06-.94 2.06-2.06.94z\"/><path d=\"M17.41 7.96l-1.37-1.37c-.4-.4-.92-.59-1.43-.59-.52 0-1.04.2-1.43.59L10.3 9.45l-7.72 7.72c-.78.78-.78 2.05 0 2.83L4 21.41c.39.39.9.59 1.41.59.51 0 1.02-.2 1.41-.59l7.78-7.78 2.81-2.81c.8-.78.8-2.07 0-2.86zM5.41 20L4 18.59l7.72-7.72 1.47 1.35L5.41 20z\"/>\n",
              "  </svg>\n",
              "      </button>\n",
              "      \n",
              "  <style>\n",
              "    .colab-df-container {\n",
              "      display:flex;\n",
              "      flex-wrap:wrap;\n",
              "      gap: 12px;\n",
              "    }\n",
              "\n",
              "    .colab-df-convert {\n",
              "      background-color: #E8F0FE;\n",
              "      border: none;\n",
              "      border-radius: 50%;\n",
              "      cursor: pointer;\n",
              "      display: none;\n",
              "      fill: #1967D2;\n",
              "      height: 32px;\n",
              "      padding: 0 0 0 0;\n",
              "      width: 32px;\n",
              "    }\n",
              "\n",
              "    .colab-df-convert:hover {\n",
              "      background-color: #E2EBFA;\n",
              "      box-shadow: 0px 1px 2px rgba(60, 64, 67, 0.3), 0px 1px 3px 1px rgba(60, 64, 67, 0.15);\n",
              "      fill: #174EA6;\n",
              "    }\n",
              "\n",
              "    [theme=dark] .colab-df-convert {\n",
              "      background-color: #3B4455;\n",
              "      fill: #D2E3FC;\n",
              "    }\n",
              "\n",
              "    [theme=dark] .colab-df-convert:hover {\n",
              "      background-color: #434B5C;\n",
              "      box-shadow: 0px 1px 3px 1px rgba(0, 0, 0, 0.15);\n",
              "      filter: drop-shadow(0px 1px 2px rgba(0, 0, 0, 0.3));\n",
              "      fill: #FFFFFF;\n",
              "    }\n",
              "  </style>\n",
              "\n",
              "      <script>\n",
              "        const buttonEl =\n",
              "          document.querySelector('#df-c31b1708-cfc2-40a8-ae9c-ce83d6c8b766 button.colab-df-convert');\n",
              "        buttonEl.style.display =\n",
              "          google.colab.kernel.accessAllowed ? 'block' : 'none';\n",
              "\n",
              "        async function convertToInteractive(key) {\n",
              "          const element = document.querySelector('#df-c31b1708-cfc2-40a8-ae9c-ce83d6c8b766');\n",
              "          const dataTable =\n",
              "            await google.colab.kernel.invokeFunction('convertToInteractive',\n",
              "                                                     [key], {});\n",
              "          if (!dataTable) return;\n",
              "\n",
              "          const docLinkHtml = 'Like what you see? Visit the ' +\n",
              "            '<a target=\"_blank\" href=https://colab.research.google.com/notebooks/data_table.ipynb>data table notebook</a>'\n",
              "            + ' to learn more about interactive tables.';\n",
              "          element.innerHTML = '';\n",
              "          dataTable['output_type'] = 'display_data';\n",
              "          await google.colab.output.renderOutput(dataTable, element);\n",
              "          const docLink = document.createElement('div');\n",
              "          docLink.innerHTML = docLinkHtml;\n",
              "          element.appendChild(docLink);\n",
              "        }\n",
              "      </script>\n",
              "    </div>\n",
              "  </div>\n",
              "  "
            ]
          },
          "metadata": {},
          "execution_count": 114
        }
      ]
    },
    {
      "cell_type": "code",
      "source": [
        "df_skin_1_2d = df_skin_1['Calibrated Value']\n",
        "df_skin_1_2d = df_skin_1_2d.values.reshape(322, 234)\n",
        "df_skin_1_2d"
      ],
      "metadata": {
        "colab": {
          "base_uri": "https://localhost:8080/"
        },
        "id": "TTOeABB4NJ4X",
        "outputId": "44cb1d1c-616c-4095-f143-d839e42447e8"
      },
      "execution_count": null,
      "outputs": [
        {
          "output_type": "execute_result",
          "data": {
            "text/plain": [
              "array([[ 0.77557186,  0.77557186,  0.76582933, ...,  0.6635328 ,\n",
              "         0.67489909,  0.64404775],\n",
              "       [ 0.77557186,  0.78531439,  0.97854116, ...,  0.734978  ,\n",
              "         0.74472053,  0.70412667],\n",
              "       [ 0.6635328 ,  0.74472053,  0.72523547, ...,  0.41022711,\n",
              "         0.42159339,  0.42159339],\n",
              "       ...,\n",
              "       [-0.81083622, -0.81083622, -0.81083622, ..., -0.911509  ,\n",
              "        -0.911509  , -0.911509  ],\n",
              "       [-0.92287528, -0.92287528, -0.92287528, ..., -0.87091514,\n",
              "        -0.87091514, -0.87091514],\n",
              "       [-0.87091514, -0.87091514, -0.87091514, ..., -0.43412519,\n",
              "        -0.43412519, -0.43412519]])"
            ]
          },
          "metadata": {},
          "execution_count": 115
        }
      ]
    },
    {
      "cell_type": "code",
      "source": [
        "df_hr_1 = df_hr_1.iloc[87:]\n",
        "df_hr_1 = df_hr_1.iloc[:-87]\n",
        "df_hr_1"
      ],
      "metadata": {
        "colab": {
          "base_uri": "https://localhost:8080/",
          "height": 419
        },
        "id": "WUGae-WmNK4D",
        "outputId": "58f34e2e-3a0d-44dd-8d16-f9ce6bc9e6f9"
      },
      "execution_count": null,
      "outputs": [
        {
          "output_type": "execute_result",
          "data": {
            "text/plain": [
              "                        Time        HR  ID\n",
              "1261132  2017-05-13 09:54:00 -0.125751  14\n",
              "1261133  2017-05-13 09:54:01 -0.125751  14\n",
              "1261134  2017-05-13 09:54:02 -0.176216  14\n",
              "1261135  2017-05-13 09:54:03 -0.176216  14\n",
              "1261136  2017-05-13 09:54:04 -0.176216  14\n",
              "...                      ...       ...  ..\n",
              "2109597  2017-06-01 20:42:36  0.378907  14\n",
              "2109598  2017-06-01 20:42:37  0.378907  14\n",
              "2109599  2017-06-01 20:42:38  0.378907  14\n",
              "2109600  2017-06-01 20:42:39  0.378907  14\n",
              "2109601  2017-06-01 20:42:40  0.378907  14\n",
              "\n",
              "[848470 rows x 3 columns]"
            ],
            "text/html": [
              "\n",
              "  <div id=\"df-21de1f2c-ec87-41d8-8512-e38f617639c8\">\n",
              "    <div class=\"colab-df-container\">\n",
              "      <div>\n",
              "<style scoped>\n",
              "    .dataframe tbody tr th:only-of-type {\n",
              "        vertical-align: middle;\n",
              "    }\n",
              "\n",
              "    .dataframe tbody tr th {\n",
              "        vertical-align: top;\n",
              "    }\n",
              "\n",
              "    .dataframe thead th {\n",
              "        text-align: right;\n",
              "    }\n",
              "</style>\n",
              "<table border=\"1\" class=\"dataframe\">\n",
              "  <thead>\n",
              "    <tr style=\"text-align: right;\">\n",
              "      <th></th>\n",
              "      <th>Time</th>\n",
              "      <th>HR</th>\n",
              "      <th>ID</th>\n",
              "    </tr>\n",
              "  </thead>\n",
              "  <tbody>\n",
              "    <tr>\n",
              "      <th>1261132</th>\n",
              "      <td>2017-05-13 09:54:00</td>\n",
              "      <td>-0.125751</td>\n",
              "      <td>14</td>\n",
              "    </tr>\n",
              "    <tr>\n",
              "      <th>1261133</th>\n",
              "      <td>2017-05-13 09:54:01</td>\n",
              "      <td>-0.125751</td>\n",
              "      <td>14</td>\n",
              "    </tr>\n",
              "    <tr>\n",
              "      <th>1261134</th>\n",
              "      <td>2017-05-13 09:54:02</td>\n",
              "      <td>-0.176216</td>\n",
              "      <td>14</td>\n",
              "    </tr>\n",
              "    <tr>\n",
              "      <th>1261135</th>\n",
              "      <td>2017-05-13 09:54:03</td>\n",
              "      <td>-0.176216</td>\n",
              "      <td>14</td>\n",
              "    </tr>\n",
              "    <tr>\n",
              "      <th>1261136</th>\n",
              "      <td>2017-05-13 09:54:04</td>\n",
              "      <td>-0.176216</td>\n",
              "      <td>14</td>\n",
              "    </tr>\n",
              "    <tr>\n",
              "      <th>...</th>\n",
              "      <td>...</td>\n",
              "      <td>...</td>\n",
              "      <td>...</td>\n",
              "    </tr>\n",
              "    <tr>\n",
              "      <th>2109597</th>\n",
              "      <td>2017-06-01 20:42:36</td>\n",
              "      <td>0.378907</td>\n",
              "      <td>14</td>\n",
              "    </tr>\n",
              "    <tr>\n",
              "      <th>2109598</th>\n",
              "      <td>2017-06-01 20:42:37</td>\n",
              "      <td>0.378907</td>\n",
              "      <td>14</td>\n",
              "    </tr>\n",
              "    <tr>\n",
              "      <th>2109599</th>\n",
              "      <td>2017-06-01 20:42:38</td>\n",
              "      <td>0.378907</td>\n",
              "      <td>14</td>\n",
              "    </tr>\n",
              "    <tr>\n",
              "      <th>2109600</th>\n",
              "      <td>2017-06-01 20:42:39</td>\n",
              "      <td>0.378907</td>\n",
              "      <td>14</td>\n",
              "    </tr>\n",
              "    <tr>\n",
              "      <th>2109601</th>\n",
              "      <td>2017-06-01 20:42:40</td>\n",
              "      <td>0.378907</td>\n",
              "      <td>14</td>\n",
              "    </tr>\n",
              "  </tbody>\n",
              "</table>\n",
              "<p>848470 rows × 3 columns</p>\n",
              "</div>\n",
              "      <button class=\"colab-df-convert\" onclick=\"convertToInteractive('df-21de1f2c-ec87-41d8-8512-e38f617639c8')\"\n",
              "              title=\"Convert this dataframe to an interactive table.\"\n",
              "              style=\"display:none;\">\n",
              "        \n",
              "  <svg xmlns=\"http://www.w3.org/2000/svg\" height=\"24px\"viewBox=\"0 0 24 24\"\n",
              "       width=\"24px\">\n",
              "    <path d=\"M0 0h24v24H0V0z\" fill=\"none\"/>\n",
              "    <path d=\"M18.56 5.44l.94 2.06.94-2.06 2.06-.94-2.06-.94-.94-2.06-.94 2.06-2.06.94zm-11 1L8.5 8.5l.94-2.06 2.06-.94-2.06-.94L8.5 2.5l-.94 2.06-2.06.94zm10 10l.94 2.06.94-2.06 2.06-.94-2.06-.94-.94-2.06-.94 2.06-2.06.94z\"/><path d=\"M17.41 7.96l-1.37-1.37c-.4-.4-.92-.59-1.43-.59-.52 0-1.04.2-1.43.59L10.3 9.45l-7.72 7.72c-.78.78-.78 2.05 0 2.83L4 21.41c.39.39.9.59 1.41.59.51 0 1.02-.2 1.41-.59l7.78-7.78 2.81-2.81c.8-.78.8-2.07 0-2.86zM5.41 20L4 18.59l7.72-7.72 1.47 1.35L5.41 20z\"/>\n",
              "  </svg>\n",
              "      </button>\n",
              "      \n",
              "  <style>\n",
              "    .colab-df-container {\n",
              "      display:flex;\n",
              "      flex-wrap:wrap;\n",
              "      gap: 12px;\n",
              "    }\n",
              "\n",
              "    .colab-df-convert {\n",
              "      background-color: #E8F0FE;\n",
              "      border: none;\n",
              "      border-radius: 50%;\n",
              "      cursor: pointer;\n",
              "      display: none;\n",
              "      fill: #1967D2;\n",
              "      height: 32px;\n",
              "      padding: 0 0 0 0;\n",
              "      width: 32px;\n",
              "    }\n",
              "\n",
              "    .colab-df-convert:hover {\n",
              "      background-color: #E2EBFA;\n",
              "      box-shadow: 0px 1px 2px rgba(60, 64, 67, 0.3), 0px 1px 3px 1px rgba(60, 64, 67, 0.15);\n",
              "      fill: #174EA6;\n",
              "    }\n",
              "\n",
              "    [theme=dark] .colab-df-convert {\n",
              "      background-color: #3B4455;\n",
              "      fill: #D2E3FC;\n",
              "    }\n",
              "\n",
              "    [theme=dark] .colab-df-convert:hover {\n",
              "      background-color: #434B5C;\n",
              "      box-shadow: 0px 1px 3px 1px rgba(0, 0, 0, 0.15);\n",
              "      filter: drop-shadow(0px 1px 2px rgba(0, 0, 0, 0.3));\n",
              "      fill: #FFFFFF;\n",
              "    }\n",
              "  </style>\n",
              "\n",
              "      <script>\n",
              "        const buttonEl =\n",
              "          document.querySelector('#df-21de1f2c-ec87-41d8-8512-e38f617639c8 button.colab-df-convert');\n",
              "        buttonEl.style.display =\n",
              "          google.colab.kernel.accessAllowed ? 'block' : 'none';\n",
              "\n",
              "        async function convertToInteractive(key) {\n",
              "          const element = document.querySelector('#df-21de1f2c-ec87-41d8-8512-e38f617639c8');\n",
              "          const dataTable =\n",
              "            await google.colab.kernel.invokeFunction('convertToInteractive',\n",
              "                                                     [key], {});\n",
              "          if (!dataTable) return;\n",
              "\n",
              "          const docLinkHtml = 'Like what you see? Visit the ' +\n",
              "            '<a target=\"_blank\" href=https://colab.research.google.com/notebooks/data_table.ipynb>data table notebook</a>'\n",
              "            + ' to learn more about interactive tables.';\n",
              "          element.innerHTML = '';\n",
              "          dataTable['output_type'] = 'display_data';\n",
              "          await google.colab.output.renderOutput(dataTable, element);\n",
              "          const docLink = document.createElement('div');\n",
              "          docLink.innerHTML = docLinkHtml;\n",
              "          element.appendChild(docLink);\n",
              "        }\n",
              "      </script>\n",
              "    </div>\n",
              "  </div>\n",
              "  "
            ]
          },
          "metadata": {},
          "execution_count": 116
        }
      ]
    },
    {
      "cell_type": "code",
      "source": [
        "df_hr_1_2d = df_hr_1['HR']\n",
        "df_hr_1_2d = df_hr_1_2d.values.reshape(322, 2635)\n",
        "df_hr_1_2d"
      ],
      "metadata": {
        "colab": {
          "base_uri": "https://localhost:8080/"
        },
        "id": "nJ8hCuJrNMa3",
        "outputId": "bd0d1af4-7b8f-4b63-baee-c269a6055b05"
      },
      "execution_count": null,
      "outputs": [
        {
          "output_type": "execute_result",
          "data": {
            "text/plain": [
              "array([[-0.1257505 , -0.1257505 , -0.17621624, ..., -0.37807916,\n",
              "        -0.37807916, -0.37807916],\n",
              "       [-0.37807916, -0.37807916, -0.37807916, ..., -0.22668197,\n",
              "        -0.32761343, -0.32761343],\n",
              "       [-0.32761343, -0.32761343, -0.37807916, ..., -0.68087355,\n",
              "        -0.68087355, -0.63040782],\n",
              "       ...,\n",
              "       [ 2.39753609,  2.39753609,  2.39753609, ...,  0.9844956 ,\n",
              "         1.03496133,  1.08542706],\n",
              "       [ 1.08542706,  1.03496133,  0.9844956 , ...,  0.42937255,\n",
              "         0.42937255,  0.58076974],\n",
              "       [ 0.58076974,  0.58076974,  0.47983828, ...,  0.37890681,\n",
              "         0.37890681,  0.37890681]])"
            ]
          },
          "metadata": {},
          "execution_count": 117
        }
      ]
    },
    {
      "cell_type": "code",
      "source": [
        "df_acc_1 = df_acc_1.iloc[2:]\n",
        "df_acc_1 = df_acc_1.iloc[:-3]\n",
        "df_acc_1"
      ],
      "metadata": {
        "colab": {
          "base_uri": "https://localhost:8080/",
          "height": 419
        },
        "id": "GbmISy3xNOKS",
        "outputId": "73911245-d1e2-4959-f2f4-e46381130133"
      },
      "execution_count": null,
      "outputs": [
        {
          "output_type": "execute_result",
          "data": {
            "text/plain": [
              "                        Date_time         X         Y         Z  ID\n",
              "18154546  2017-05-13 10:02:56.050 -1.456224  0.669666 -0.064011  14\n",
              "18154547  2017-05-13 10:02:56.060 -1.458869  0.703549 -0.076893  14\n",
              "18154548  2017-05-13 10:02:56.070 -1.456224  0.717691 -0.074971  14\n",
              "18154549  2017-05-13 10:02:56.080 -1.450640  0.762769 -0.106310  14\n",
              "18154550  2017-05-13 10:02:56.090 -1.461807  0.711798 -0.074971  14\n",
              "...                           ...       ...       ...       ...  ..\n",
              "20004753  2017-05-14 21:38:58.373  0.111583  0.850273  0.228810  14\n",
              "20004754  2017-05-14 21:38:58.383  0.159191  0.850273  0.241692  14\n",
              "20004755  2017-05-14 21:38:58.403  0.139501  0.810793  0.226887  14\n",
              "20004756  2017-05-14 21:38:58.403  0.139501  0.810793  0.226887  14\n",
              "20004757  2017-05-14 21:38:58.413  0.097477  0.802249  0.225157  14\n",
              "\n",
              "[1850212 rows x 5 columns]"
            ],
            "text/html": [
              "\n",
              "  <div id=\"df-6c2a34c3-ea96-4958-a2b3-787f6ab487e2\">\n",
              "    <div class=\"colab-df-container\">\n",
              "      <div>\n",
              "<style scoped>\n",
              "    .dataframe tbody tr th:only-of-type {\n",
              "        vertical-align: middle;\n",
              "    }\n",
              "\n",
              "    .dataframe tbody tr th {\n",
              "        vertical-align: top;\n",
              "    }\n",
              "\n",
              "    .dataframe thead th {\n",
              "        text-align: right;\n",
              "    }\n",
              "</style>\n",
              "<table border=\"1\" class=\"dataframe\">\n",
              "  <thead>\n",
              "    <tr style=\"text-align: right;\">\n",
              "      <th></th>\n",
              "      <th>Date_time</th>\n",
              "      <th>X</th>\n",
              "      <th>Y</th>\n",
              "      <th>Z</th>\n",
              "      <th>ID</th>\n",
              "    </tr>\n",
              "  </thead>\n",
              "  <tbody>\n",
              "    <tr>\n",
              "      <th>18154546</th>\n",
              "      <td>2017-05-13 10:02:56.050</td>\n",
              "      <td>-1.456224</td>\n",
              "      <td>0.669666</td>\n",
              "      <td>-0.064011</td>\n",
              "      <td>14</td>\n",
              "    </tr>\n",
              "    <tr>\n",
              "      <th>18154547</th>\n",
              "      <td>2017-05-13 10:02:56.060</td>\n",
              "      <td>-1.458869</td>\n",
              "      <td>0.703549</td>\n",
              "      <td>-0.076893</td>\n",
              "      <td>14</td>\n",
              "    </tr>\n",
              "    <tr>\n",
              "      <th>18154548</th>\n",
              "      <td>2017-05-13 10:02:56.070</td>\n",
              "      <td>-1.456224</td>\n",
              "      <td>0.717691</td>\n",
              "      <td>-0.074971</td>\n",
              "      <td>14</td>\n",
              "    </tr>\n",
              "    <tr>\n",
              "      <th>18154549</th>\n",
              "      <td>2017-05-13 10:02:56.080</td>\n",
              "      <td>-1.450640</td>\n",
              "      <td>0.762769</td>\n",
              "      <td>-0.106310</td>\n",
              "      <td>14</td>\n",
              "    </tr>\n",
              "    <tr>\n",
              "      <th>18154550</th>\n",
              "      <td>2017-05-13 10:02:56.090</td>\n",
              "      <td>-1.461807</td>\n",
              "      <td>0.711798</td>\n",
              "      <td>-0.074971</td>\n",
              "      <td>14</td>\n",
              "    </tr>\n",
              "    <tr>\n",
              "      <th>...</th>\n",
              "      <td>...</td>\n",
              "      <td>...</td>\n",
              "      <td>...</td>\n",
              "      <td>...</td>\n",
              "      <td>...</td>\n",
              "    </tr>\n",
              "    <tr>\n",
              "      <th>20004753</th>\n",
              "      <td>2017-05-14 21:38:58.373</td>\n",
              "      <td>0.111583</td>\n",
              "      <td>0.850273</td>\n",
              "      <td>0.228810</td>\n",
              "      <td>14</td>\n",
              "    </tr>\n",
              "    <tr>\n",
              "      <th>20004754</th>\n",
              "      <td>2017-05-14 21:38:58.383</td>\n",
              "      <td>0.159191</td>\n",
              "      <td>0.850273</td>\n",
              "      <td>0.241692</td>\n",
              "      <td>14</td>\n",
              "    </tr>\n",
              "    <tr>\n",
              "      <th>20004755</th>\n",
              "      <td>2017-05-14 21:38:58.403</td>\n",
              "      <td>0.139501</td>\n",
              "      <td>0.810793</td>\n",
              "      <td>0.226887</td>\n",
              "      <td>14</td>\n",
              "    </tr>\n",
              "    <tr>\n",
              "      <th>20004756</th>\n",
              "      <td>2017-05-14 21:38:58.403</td>\n",
              "      <td>0.139501</td>\n",
              "      <td>0.810793</td>\n",
              "      <td>0.226887</td>\n",
              "      <td>14</td>\n",
              "    </tr>\n",
              "    <tr>\n",
              "      <th>20004757</th>\n",
              "      <td>2017-05-14 21:38:58.413</td>\n",
              "      <td>0.097477</td>\n",
              "      <td>0.802249</td>\n",
              "      <td>0.225157</td>\n",
              "      <td>14</td>\n",
              "    </tr>\n",
              "  </tbody>\n",
              "</table>\n",
              "<p>1850212 rows × 5 columns</p>\n",
              "</div>\n",
              "      <button class=\"colab-df-convert\" onclick=\"convertToInteractive('df-6c2a34c3-ea96-4958-a2b3-787f6ab487e2')\"\n",
              "              title=\"Convert this dataframe to an interactive table.\"\n",
              "              style=\"display:none;\">\n",
              "        \n",
              "  <svg xmlns=\"http://www.w3.org/2000/svg\" height=\"24px\"viewBox=\"0 0 24 24\"\n",
              "       width=\"24px\">\n",
              "    <path d=\"M0 0h24v24H0V0z\" fill=\"none\"/>\n",
              "    <path d=\"M18.56 5.44l.94 2.06.94-2.06 2.06-.94-2.06-.94-.94-2.06-.94 2.06-2.06.94zm-11 1L8.5 8.5l.94-2.06 2.06-.94-2.06-.94L8.5 2.5l-.94 2.06-2.06.94zm10 10l.94 2.06.94-2.06 2.06-.94-2.06-.94-.94-2.06-.94 2.06-2.06.94z\"/><path d=\"M17.41 7.96l-1.37-1.37c-.4-.4-.92-.59-1.43-.59-.52 0-1.04.2-1.43.59L10.3 9.45l-7.72 7.72c-.78.78-.78 2.05 0 2.83L4 21.41c.39.39.9.59 1.41.59.51 0 1.02-.2 1.41-.59l7.78-7.78 2.81-2.81c.8-.78.8-2.07 0-2.86zM5.41 20L4 18.59l7.72-7.72 1.47 1.35L5.41 20z\"/>\n",
              "  </svg>\n",
              "      </button>\n",
              "      \n",
              "  <style>\n",
              "    .colab-df-container {\n",
              "      display:flex;\n",
              "      flex-wrap:wrap;\n",
              "      gap: 12px;\n",
              "    }\n",
              "\n",
              "    .colab-df-convert {\n",
              "      background-color: #E8F0FE;\n",
              "      border: none;\n",
              "      border-radius: 50%;\n",
              "      cursor: pointer;\n",
              "      display: none;\n",
              "      fill: #1967D2;\n",
              "      height: 32px;\n",
              "      padding: 0 0 0 0;\n",
              "      width: 32px;\n",
              "    }\n",
              "\n",
              "    .colab-df-convert:hover {\n",
              "      background-color: #E2EBFA;\n",
              "      box-shadow: 0px 1px 2px rgba(60, 64, 67, 0.3), 0px 1px 3px 1px rgba(60, 64, 67, 0.15);\n",
              "      fill: #174EA6;\n",
              "    }\n",
              "\n",
              "    [theme=dark] .colab-df-convert {\n",
              "      background-color: #3B4455;\n",
              "      fill: #D2E3FC;\n",
              "    }\n",
              "\n",
              "    [theme=dark] .colab-df-convert:hover {\n",
              "      background-color: #434B5C;\n",
              "      box-shadow: 0px 1px 3px 1px rgba(0, 0, 0, 0.15);\n",
              "      filter: drop-shadow(0px 1px 2px rgba(0, 0, 0, 0.3));\n",
              "      fill: #FFFFFF;\n",
              "    }\n",
              "  </style>\n",
              "\n",
              "      <script>\n",
              "        const buttonEl =\n",
              "          document.querySelector('#df-6c2a34c3-ea96-4958-a2b3-787f6ab487e2 button.colab-df-convert');\n",
              "        buttonEl.style.display =\n",
              "          google.colab.kernel.accessAllowed ? 'block' : 'none';\n",
              "\n",
              "        async function convertToInteractive(key) {\n",
              "          const element = document.querySelector('#df-6c2a34c3-ea96-4958-a2b3-787f6ab487e2');\n",
              "          const dataTable =\n",
              "            await google.colab.kernel.invokeFunction('convertToInteractive',\n",
              "                                                     [key], {});\n",
              "          if (!dataTable) return;\n",
              "\n",
              "          const docLinkHtml = 'Like what you see? Visit the ' +\n",
              "            '<a target=\"_blank\" href=https://colab.research.google.com/notebooks/data_table.ipynb>data table notebook</a>'\n",
              "            + ' to learn more about interactive tables.';\n",
              "          element.innerHTML = '';\n",
              "          dataTable['output_type'] = 'display_data';\n",
              "          await google.colab.output.renderOutput(dataTable, element);\n",
              "          const docLink = document.createElement('div');\n",
              "          docLink.innerHTML = docLinkHtml;\n",
              "          element.appendChild(docLink);\n",
              "        }\n",
              "      </script>\n",
              "    </div>\n",
              "  </div>\n",
              "  "
            ]
          },
          "metadata": {},
          "execution_count": 118
        }
      ]
    },
    {
      "cell_type": "code",
      "source": [
        "df_acc_1_2d = df_acc_1[['X', 'Y', 'Z']]\n",
        "df_acc_1_2d = df_acc_1_2d.values.reshape(322, 17238)\n",
        "df_acc_1_2d"
      ],
      "metadata": {
        "colab": {
          "base_uri": "https://localhost:8080/"
        },
        "id": "Pg6K7TBFNP-R",
        "outputId": "8109cd40-305a-42b9-c71c-3f78c2754021"
      },
      "execution_count": null,
      "outputs": [
        {
          "output_type": "execute_result",
          "data": {
            "text/plain": [
              "array([[-1.45622366,  0.66966643, -0.06401145, ...,  0.43190375,\n",
              "         0.41275082,  0.51047988],\n",
              "       [ 0.42367534,  0.41275082,  0.50682682, ...,  0.33081179,\n",
              "        -1.11342222,  0.66160109],\n",
              "       [ 0.32787308, -1.11342222,  0.66160109, ...,  0.20973654,\n",
              "        -0.80877687,  0.67986637],\n",
              "       ...,\n",
              "       [-0.33598371,  0.42983924,  0.26553277, ...,  0.1115833 ,\n",
              "        -0.83411488,  0.67621332],\n",
              "       [ 0.11422815, -0.83411488,  0.67448292, ...,  0.32787308,\n",
              "         0.83613125,  0.2397691 ],\n",
              "       [ 0.29701652,  0.83053332,  0.29687216, ...,  0.09747745,\n",
              "         0.80224903,  0.22515687]])"
            ]
          },
          "metadata": {},
          "execution_count": 119
        }
      ]
    },
    {
      "cell_type": "code",
      "source": [
        "df_wea_1 = df_wea.iloc[153:]\n",
        "df_wea_1 = df_wea_1.iloc[:-154]\n",
        "df_wea_1"
      ],
      "metadata": {
        "colab": {
          "base_uri": "https://localhost:8080/",
          "height": 419
        },
        "id": "yBDIMUNCNUMr",
        "outputId": "f336293c-0360-47ae-91e8-5d43f9131069"
      },
      "execution_count": null,
      "outputs": [
        {
          "output_type": "execute_result",
          "data": {
            "text/plain": [
              "                 Time  Temperature   Dew Point  Humidity   Wind Wind Speed   \\\n",
              "153    9/9/2015 11:53      3.272290        NaN -2.764947    NaN         3.1   \n",
              "154    9/9/2015 12:53      3.660278        NaN -2.483683    NaN           4   \n",
              "155    9/9/2015 13:53      4.025443        NaN -2.821200    NaN         5.8   \n",
              "156    9/9/2015 14:53      4.162380        NaN -2.989959    NaN         5.8   \n",
              "157    9/9/2015 15:53      3.911329        NaN -2.933706    NaN         6.3   \n",
              "...               ...           ...        ...       ...    ...         ...   \n",
              "44584  6/28/2017 8:55     -0.516300       11.4  1.060244    SSW         0.9   \n",
              "44585  6/28/2017 9:00     -0.516300       11.4  1.060244     SW         0.4   \n",
              "44586  6/28/2017 9:05     -0.493477       11.4  1.060244     SE         0.9   \n",
              "44587  6/28/2017 9:10     -0.493477       11.5  1.060244  South         0.9   \n",
              "44588  6/28/2017 9:15     -0.493477       11.4  1.060244  South         1.3   \n",
              "\n",
              "       Wind gust  Pressure  Precip Rate  Precip Accu   UV  Solar  \n",
              "153          NaN       NaN          NaN          NaN  NaN    NaN  \n",
              "154          NaN       NaN          NaN          NaN  NaN    NaN  \n",
              "155          NaN       NaN          NaN          NaN  NaN    NaN  \n",
              "156          NaN       NaN          NaN          NaN  NaN    NaN  \n",
              "157          NaN       NaN          NaN          NaN  NaN    NaN  \n",
              "...          ...       ...          ...          ...  ...    ...  \n",
              "44584        1.8      30.0          0.0          0.0  0.5   68.0  \n",
              "44585        1.8      30.0          0.0          0.0  0.5   65.0  \n",
              "44586        2.7      30.0          0.0          0.0  0.5   71.0  \n",
              "44587        1.8      30.0          0.0          0.0  0.4   73.0  \n",
              "44588        2.7      30.0          0.0          0.0  0.5   74.0  \n",
              "\n",
              "[44436 rows x 12 columns]"
            ],
            "text/html": [
              "\n",
              "  <div id=\"df-fde1c80d-b5e0-41ae-8538-98a34d4f3c4b\">\n",
              "    <div class=\"colab-df-container\">\n",
              "      <div>\n",
              "<style scoped>\n",
              "    .dataframe tbody tr th:only-of-type {\n",
              "        vertical-align: middle;\n",
              "    }\n",
              "\n",
              "    .dataframe tbody tr th {\n",
              "        vertical-align: top;\n",
              "    }\n",
              "\n",
              "    .dataframe thead th {\n",
              "        text-align: right;\n",
              "    }\n",
              "</style>\n",
              "<table border=\"1\" class=\"dataframe\">\n",
              "  <thead>\n",
              "    <tr style=\"text-align: right;\">\n",
              "      <th></th>\n",
              "      <th>Time</th>\n",
              "      <th>Temperature</th>\n",
              "      <th>Dew Point</th>\n",
              "      <th>Humidity</th>\n",
              "      <th>Wind</th>\n",
              "      <th>Wind Speed</th>\n",
              "      <th>Wind gust</th>\n",
              "      <th>Pressure</th>\n",
              "      <th>Precip Rate</th>\n",
              "      <th>Precip Accu</th>\n",
              "      <th>UV</th>\n",
              "      <th>Solar</th>\n",
              "    </tr>\n",
              "  </thead>\n",
              "  <tbody>\n",
              "    <tr>\n",
              "      <th>153</th>\n",
              "      <td>9/9/2015 11:53</td>\n",
              "      <td>3.272290</td>\n",
              "      <td>NaN</td>\n",
              "      <td>-2.764947</td>\n",
              "      <td>NaN</td>\n",
              "      <td>3.1</td>\n",
              "      <td>NaN</td>\n",
              "      <td>NaN</td>\n",
              "      <td>NaN</td>\n",
              "      <td>NaN</td>\n",
              "      <td>NaN</td>\n",
              "      <td>NaN</td>\n",
              "    </tr>\n",
              "    <tr>\n",
              "      <th>154</th>\n",
              "      <td>9/9/2015 12:53</td>\n",
              "      <td>3.660278</td>\n",
              "      <td>NaN</td>\n",
              "      <td>-2.483683</td>\n",
              "      <td>NaN</td>\n",
              "      <td>4</td>\n",
              "      <td>NaN</td>\n",
              "      <td>NaN</td>\n",
              "      <td>NaN</td>\n",
              "      <td>NaN</td>\n",
              "      <td>NaN</td>\n",
              "      <td>NaN</td>\n",
              "    </tr>\n",
              "    <tr>\n",
              "      <th>155</th>\n",
              "      <td>9/9/2015 13:53</td>\n",
              "      <td>4.025443</td>\n",
              "      <td>NaN</td>\n",
              "      <td>-2.821200</td>\n",
              "      <td>NaN</td>\n",
              "      <td>5.8</td>\n",
              "      <td>NaN</td>\n",
              "      <td>NaN</td>\n",
              "      <td>NaN</td>\n",
              "      <td>NaN</td>\n",
              "      <td>NaN</td>\n",
              "      <td>NaN</td>\n",
              "    </tr>\n",
              "    <tr>\n",
              "      <th>156</th>\n",
              "      <td>9/9/2015 14:53</td>\n",
              "      <td>4.162380</td>\n",
              "      <td>NaN</td>\n",
              "      <td>-2.989959</td>\n",
              "      <td>NaN</td>\n",
              "      <td>5.8</td>\n",
              "      <td>NaN</td>\n",
              "      <td>NaN</td>\n",
              "      <td>NaN</td>\n",
              "      <td>NaN</td>\n",
              "      <td>NaN</td>\n",
              "      <td>NaN</td>\n",
              "    </tr>\n",
              "    <tr>\n",
              "      <th>157</th>\n",
              "      <td>9/9/2015 15:53</td>\n",
              "      <td>3.911329</td>\n",
              "      <td>NaN</td>\n",
              "      <td>-2.933706</td>\n",
              "      <td>NaN</td>\n",
              "      <td>6.3</td>\n",
              "      <td>NaN</td>\n",
              "      <td>NaN</td>\n",
              "      <td>NaN</td>\n",
              "      <td>NaN</td>\n",
              "      <td>NaN</td>\n",
              "      <td>NaN</td>\n",
              "    </tr>\n",
              "    <tr>\n",
              "      <th>...</th>\n",
              "      <td>...</td>\n",
              "      <td>...</td>\n",
              "      <td>...</td>\n",
              "      <td>...</td>\n",
              "      <td>...</td>\n",
              "      <td>...</td>\n",
              "      <td>...</td>\n",
              "      <td>...</td>\n",
              "      <td>...</td>\n",
              "      <td>...</td>\n",
              "      <td>...</td>\n",
              "      <td>...</td>\n",
              "    </tr>\n",
              "    <tr>\n",
              "      <th>44584</th>\n",
              "      <td>6/28/2017 8:55</td>\n",
              "      <td>-0.516300</td>\n",
              "      <td>11.4</td>\n",
              "      <td>1.060244</td>\n",
              "      <td>SSW</td>\n",
              "      <td>0.9</td>\n",
              "      <td>1.8</td>\n",
              "      <td>30.0</td>\n",
              "      <td>0.0</td>\n",
              "      <td>0.0</td>\n",
              "      <td>0.5</td>\n",
              "      <td>68.0</td>\n",
              "    </tr>\n",
              "    <tr>\n",
              "      <th>44585</th>\n",
              "      <td>6/28/2017 9:00</td>\n",
              "      <td>-0.516300</td>\n",
              "      <td>11.4</td>\n",
              "      <td>1.060244</td>\n",
              "      <td>SW</td>\n",
              "      <td>0.4</td>\n",
              "      <td>1.8</td>\n",
              "      <td>30.0</td>\n",
              "      <td>0.0</td>\n",
              "      <td>0.0</td>\n",
              "      <td>0.5</td>\n",
              "      <td>65.0</td>\n",
              "    </tr>\n",
              "    <tr>\n",
              "      <th>44586</th>\n",
              "      <td>6/28/2017 9:05</td>\n",
              "      <td>-0.493477</td>\n",
              "      <td>11.4</td>\n",
              "      <td>1.060244</td>\n",
              "      <td>SE</td>\n",
              "      <td>0.9</td>\n",
              "      <td>2.7</td>\n",
              "      <td>30.0</td>\n",
              "      <td>0.0</td>\n",
              "      <td>0.0</td>\n",
              "      <td>0.5</td>\n",
              "      <td>71.0</td>\n",
              "    </tr>\n",
              "    <tr>\n",
              "      <th>44587</th>\n",
              "      <td>6/28/2017 9:10</td>\n",
              "      <td>-0.493477</td>\n",
              "      <td>11.5</td>\n",
              "      <td>1.060244</td>\n",
              "      <td>South</td>\n",
              "      <td>0.9</td>\n",
              "      <td>1.8</td>\n",
              "      <td>30.0</td>\n",
              "      <td>0.0</td>\n",
              "      <td>0.0</td>\n",
              "      <td>0.4</td>\n",
              "      <td>73.0</td>\n",
              "    </tr>\n",
              "    <tr>\n",
              "      <th>44588</th>\n",
              "      <td>6/28/2017 9:15</td>\n",
              "      <td>-0.493477</td>\n",
              "      <td>11.4</td>\n",
              "      <td>1.060244</td>\n",
              "      <td>South</td>\n",
              "      <td>1.3</td>\n",
              "      <td>2.7</td>\n",
              "      <td>30.0</td>\n",
              "      <td>0.0</td>\n",
              "      <td>0.0</td>\n",
              "      <td>0.5</td>\n",
              "      <td>74.0</td>\n",
              "    </tr>\n",
              "  </tbody>\n",
              "</table>\n",
              "<p>44436 rows × 12 columns</p>\n",
              "</div>\n",
              "      <button class=\"colab-df-convert\" onclick=\"convertToInteractive('df-fde1c80d-b5e0-41ae-8538-98a34d4f3c4b')\"\n",
              "              title=\"Convert this dataframe to an interactive table.\"\n",
              "              style=\"display:none;\">\n",
              "        \n",
              "  <svg xmlns=\"http://www.w3.org/2000/svg\" height=\"24px\"viewBox=\"0 0 24 24\"\n",
              "       width=\"24px\">\n",
              "    <path d=\"M0 0h24v24H0V0z\" fill=\"none\"/>\n",
              "    <path d=\"M18.56 5.44l.94 2.06.94-2.06 2.06-.94-2.06-.94-.94-2.06-.94 2.06-2.06.94zm-11 1L8.5 8.5l.94-2.06 2.06-.94-2.06-.94L8.5 2.5l-.94 2.06-2.06.94zm10 10l.94 2.06.94-2.06 2.06-.94-2.06-.94-.94-2.06-.94 2.06-2.06.94z\"/><path d=\"M17.41 7.96l-1.37-1.37c-.4-.4-.92-.59-1.43-.59-.52 0-1.04.2-1.43.59L10.3 9.45l-7.72 7.72c-.78.78-.78 2.05 0 2.83L4 21.41c.39.39.9.59 1.41.59.51 0 1.02-.2 1.41-.59l7.78-7.78 2.81-2.81c.8-.78.8-2.07 0-2.86zM5.41 20L4 18.59l7.72-7.72 1.47 1.35L5.41 20z\"/>\n",
              "  </svg>\n",
              "      </button>\n",
              "      \n",
              "  <style>\n",
              "    .colab-df-container {\n",
              "      display:flex;\n",
              "      flex-wrap:wrap;\n",
              "      gap: 12px;\n",
              "    }\n",
              "\n",
              "    .colab-df-convert {\n",
              "      background-color: #E8F0FE;\n",
              "      border: none;\n",
              "      border-radius: 50%;\n",
              "      cursor: pointer;\n",
              "      display: none;\n",
              "      fill: #1967D2;\n",
              "      height: 32px;\n",
              "      padding: 0 0 0 0;\n",
              "      width: 32px;\n",
              "    }\n",
              "\n",
              "    .colab-df-convert:hover {\n",
              "      background-color: #E2EBFA;\n",
              "      box-shadow: 0px 1px 2px rgba(60, 64, 67, 0.3), 0px 1px 3px 1px rgba(60, 64, 67, 0.15);\n",
              "      fill: #174EA6;\n",
              "    }\n",
              "\n",
              "    [theme=dark] .colab-df-convert {\n",
              "      background-color: #3B4455;\n",
              "      fill: #D2E3FC;\n",
              "    }\n",
              "\n",
              "    [theme=dark] .colab-df-convert:hover {\n",
              "      background-color: #434B5C;\n",
              "      box-shadow: 0px 1px 3px 1px rgba(0, 0, 0, 0.15);\n",
              "      filter: drop-shadow(0px 1px 2px rgba(0, 0, 0, 0.3));\n",
              "      fill: #FFFFFF;\n",
              "    }\n",
              "  </style>\n",
              "\n",
              "      <script>\n",
              "        const buttonEl =\n",
              "          document.querySelector('#df-fde1c80d-b5e0-41ae-8538-98a34d4f3c4b button.colab-df-convert');\n",
              "        buttonEl.style.display =\n",
              "          google.colab.kernel.accessAllowed ? 'block' : 'none';\n",
              "\n",
              "        async function convertToInteractive(key) {\n",
              "          const element = document.querySelector('#df-fde1c80d-b5e0-41ae-8538-98a34d4f3c4b');\n",
              "          const dataTable =\n",
              "            await google.colab.kernel.invokeFunction('convertToInteractive',\n",
              "                                                     [key], {});\n",
              "          if (!dataTable) return;\n",
              "\n",
              "          const docLinkHtml = 'Like what you see? Visit the ' +\n",
              "            '<a target=\"_blank\" href=https://colab.research.google.com/notebooks/data_table.ipynb>data table notebook</a>'\n",
              "            + ' to learn more about interactive tables.';\n",
              "          element.innerHTML = '';\n",
              "          dataTable['output_type'] = 'display_data';\n",
              "          await google.colab.output.renderOutput(dataTable, element);\n",
              "          const docLink = document.createElement('div');\n",
              "          docLink.innerHTML = docLinkHtml;\n",
              "          element.appendChild(docLink);\n",
              "        }\n",
              "      </script>\n",
              "    </div>\n",
              "  </div>\n",
              "  "
            ]
          },
          "metadata": {},
          "execution_count": 120
        }
      ]
    },
    {
      "cell_type": "code",
      "source": [
        "df_wea_1_2d = df_wea_1[['Temperature ', 'Humidity']]\n",
        "df_wea_1_2d = df_wea_1_2d.values.reshape(322, 276)\n",
        "df_wea_1_2d"
      ],
      "metadata": {
        "colab": {
          "base_uri": "https://localhost:8080/"
        },
        "id": "w6XLwcbXNWCq",
        "outputId": "fe15184b-6bc5-4e22-bba3-a434165c384c"
      },
      "execution_count": null,
      "outputs": [
        {
          "output_type": "execute_result",
          "data": {
            "text/plain": [
              "array([[ 3.27228954, -2.76494726,  3.66027759, ...,  0.83523292,\n",
              "         0.23685368,  0.61022166],\n",
              "       [ 0.23685368,  0.61022166,  0.23685368, ...,  0.16019914,\n",
              "        -0.15113436,  0.16019914],\n",
              "       [-0.15113436,  0.16019914, -0.28807132, ..., -1.02110999,\n",
              "         1.37799498, -1.02110999],\n",
              "       ...,\n",
              "       [ 0.32814498,  0.61022166,  0.28249933, ...,  1.17274981,\n",
              "        -0.42500828,  1.17274981],\n",
              "       [-0.42500828,  1.17274981, -0.42500828, ...,  0.77898011,\n",
              "        -0.21960284,  0.77898011],\n",
              "       [-0.26524849,  0.83523292, -0.26524849, ...,  1.06024418,\n",
              "        -0.49347675,  1.06024418]])"
            ]
          },
          "metadata": {},
          "execution_count": 121
        }
      ]
    },
    {
      "cell_type": "code",
      "source": [
        "import numpy as np\n",
        "\n",
        "# Assuming all four ndarrays have the same shape along the first axis\n",
        "merged_array = np.concatenate((df_skin_1_2d, df_hr_1_2d, df_acc_1_2d, df_wea_1_2d), axis=1)"
      ],
      "metadata": {
        "id": "BFWXLBhvDRuG"
      },
      "execution_count": null,
      "outputs": []
    },
    {
      "cell_type": "code",
      "source": [
        "print(merged_array)"
      ],
      "metadata": {
        "colab": {
          "base_uri": "https://localhost:8080/"
        },
        "id": "j0FFNj5CDXNc",
        "outputId": "f3df8b81-6759-4d5d-fbd1-71a74a7ed778"
      },
      "execution_count": null,
      "outputs": [
        {
          "output_type": "stream",
          "name": "stdout",
          "text": [
            "[[ 0.77557186  0.77557186  0.76582933 ...  0.83523292  0.23685368\n",
            "   0.61022166]\n",
            " [ 0.77557186  0.78531439  0.97854116 ...  0.16019914 -0.15113436\n",
            "   0.16019914]\n",
            " [ 0.6635328   0.74472053  0.72523547 ... -1.02110999  1.37799498\n",
            "  -1.02110999]\n",
            " ...\n",
            " [-0.81083622 -0.81083622 -0.81083622 ...  1.17274981 -0.42500828\n",
            "   1.17274981]\n",
            " [-0.92287528 -0.92287528 -0.92287528 ...  0.77898011 -0.21960284\n",
            "   0.77898011]\n",
            " [-0.87091514 -0.87091514 -0.87091514 ...  1.06024418 -0.49347675\n",
            "   1.06024418]]\n"
          ]
        }
      ]
    },
    {
      "cell_type": "markdown",
      "source": [
        "Test FCN"
      ],
      "metadata": {
        "id": "6jbpB18TNh2G"
      }
    },
    {
      "cell_type": "code",
      "source": [
        "import tensorflow as tf\n",
        "import tensorflow.keras as keras\n",
        "from sklearn.model_selection import train_test_split\n",
        "tf.config.run_functions_eagerly(True)"
      ],
      "metadata": {
        "id": "eGUC9lO7Nqg7"
      },
      "execution_count": null,
      "outputs": []
    },
    {
      "cell_type": "code",
      "source": [
        "conv2_layers = []\n",
        "\n",
        "input_layer = keras.layers.Input((merged_array.shape[1],1))\n",
        "\n",
        "conv1_layer = keras.layers.Conv1D(filters=128, kernel_size=8, padding='same')(input_layer)\n",
        "conv1_layer = keras.layers.BatchNormalization()(conv1_layer)\n",
        "conv1_layer = keras.layers.Activation(activation='relu')(conv1_layer)\n",
        "\n",
        "conv2_layer = keras.layers.Conv1D(filters=256, kernel_size=5, padding='same')(conv1_layer)\n",
        "conv2_layer = keras.layers.BatchNormalization()(conv2_layer)\n",
        "conv2_layer = keras.layers.Activation('relu')(conv2_layer)\n",
        "\n",
        "conv3_layer = keras.layers.Conv1D(128, kernel_size=3,padding='same')(conv2_layer)\n",
        "conv3_layer = keras.layers.BatchNormalization()(conv3_layer)\n",
        "conv3_layer = keras.layers.Activation('relu')(conv3_layer)\n",
        "\n",
        "gap_layer = keras.layers.GlobalAveragePooling1D()(conv3_layer)\n",
        "\n",
        "output_layer = keras.layers.Dense(3, activation='softmax')(gap_layer)\n",
        "\n",
        "model = keras.models.Model(inputs=[input_layer], outputs=output_layer)"
      ],
      "metadata": {
        "id": "8vZuf-thZn9t"
      },
      "execution_count": null,
      "outputs": []
    },
    {
      "cell_type": "code",
      "source": [
        "model.summary()"
      ],
      "metadata": {
        "colab": {
          "base_uri": "https://localhost:8080/"
        },
        "id": "AwzYA0v4myEM",
        "outputId": "1be89d56-1431-45e2-a384-0b020bdacebe"
      },
      "execution_count": null,
      "outputs": [
        {
          "output_type": "stream",
          "name": "stdout",
          "text": [
            "Model: \"model_2\"\n",
            "_________________________________________________________________\n",
            " Layer (type)                Output Shape              Param #   \n",
            "=================================================================\n",
            " input_3 (InputLayer)        [(None, 20383, 1)]        0         \n",
            "                                                                 \n",
            " conv1d_6 (Conv1D)           (None, 20383, 128)        1152      \n",
            "                                                                 \n",
            " batch_normalization_6 (Batc  (None, 20383, 128)       512       \n",
            " hNormalization)                                                 \n",
            "                                                                 \n",
            " activation_6 (Activation)   (None, 20383, 128)        0         \n",
            "                                                                 \n",
            " conv1d_7 (Conv1D)           (None, 20383, 256)        164096    \n",
            "                                                                 \n",
            " batch_normalization_7 (Batc  (None, 20383, 256)       1024      \n",
            " hNormalization)                                                 \n",
            "                                                                 \n",
            " activation_7 (Activation)   (None, 20383, 256)        0         \n",
            "                                                                 \n",
            " conv1d_8 (Conv1D)           (None, 20383, 128)        98432     \n",
            "                                                                 \n",
            " batch_normalization_8 (Batc  (None, 20383, 128)       512       \n",
            " hNormalization)                                                 \n",
            "                                                                 \n",
            " activation_8 (Activation)   (None, 20383, 128)        0         \n",
            "                                                                 \n",
            " global_average_pooling1d_2   (None, 128)              0         \n",
            " (GlobalAveragePooling1D)                                        \n",
            "                                                                 \n",
            " dense_2 (Dense)             (None, 3)                 387       \n",
            "                                                                 \n",
            "=================================================================\n",
            "Total params: 266,115\n",
            "Trainable params: 265,091\n",
            "Non-trainable params: 1,024\n",
            "_________________________________________________________________\n"
          ]
        }
      ]
    },
    {
      "cell_type": "code",
      "source": [
        "keras.utils.plot_model(model, show_shapes=True)"
      ],
      "metadata": {
        "colab": {
          "base_uri": "https://localhost:8080/",
          "height": 1000
        },
        "id": "GB-eoFyP1icL",
        "outputId": "fd3693c8-a63c-4168-94be-2cf696bcc634"
      },
      "execution_count": null,
      "outputs": [
        {
          "output_type": "execute_result",
          "data": {
            "image/png": "[encoded data removed]",
            "text/plain": [
              "<IPython.core.display.Image object>"
            ]
          },
          "metadata": {},
          "execution_count": 127
        }
      ]
    },
    {
      "cell_type": "code",
      "source": [
        "model.compile(loss='categorical_crossentropy', metrics=['accuracy'])"
      ],
      "metadata": {
        "id": "-Mn3WyUGeNRY"
      },
      "execution_count": null,
      "outputs": []
    },
    {
      "cell_type": "code",
      "source": [
        "x_train, x_test = train_test_split(merged_array, test_size=0.2, random_state=42)\n",
        "y_train, y_test = train_test_split(df_com_1_prf, test_size=0.2, random_state=42)"
      ],
      "metadata": {
        "id": "SkHSGibHtcwq"
      },
      "execution_count": null,
      "outputs": []
    },
    {
      "cell_type": "code",
      "source": [
        "x_train.shape"
      ],
      "metadata": {
        "colab": {
          "base_uri": "https://localhost:8080/"
        },
        "id": "XRyndmY-sYDM",
        "outputId": "14398f58-0478-4ac4-e8c2-82bfa6743292"
      },
      "execution_count": null,
      "outputs": [
        {
          "output_type": "execute_result",
          "data": {
            "text/plain": [
              "(257, 20383)"
            ]
          },
          "metadata": {},
          "execution_count": 130
        }
      ]
    },
    {
      "cell_type": "code",
      "source": [
        "y_train.shape"
      ],
      "metadata": {
        "colab": {
          "base_uri": "https://localhost:8080/"
        },
        "id": "OcjgRJ6RsiFq",
        "outputId": "8379bc56-0c13-4007-c9be-d8cc027c4fe9"
      },
      "execution_count": null,
      "outputs": [
        {
          "output_type": "execute_result",
          "data": {
            "text/plain": [
              "(257, 3)"
            ]
          },
          "metadata": {},
          "execution_count": 131
        }
      ]
    },
    {
      "cell_type": "markdown",
      "source": [
        "Occupant 1"
      ],
      "metadata": {
        "id": "ChNlBE0Xi_nw"
      }
    },
    {
      "cell_type": "code",
      "source": [
        "model.fit(x=x_train , y=y_train, validation_data=(x_test, y_test), epochs=10)"
      ],
      "metadata": {
        "colab": {
          "base_uri": "https://localhost:8080/"
        },
        "id": "A8iP71S0fOD-",
        "outputId": "0a933a69-5828-4631-ea96-c9ec902571dc"
      },
      "execution_count": null,
      "outputs": [
        {
          "output_type": "stream",
          "name": "stdout",
          "text": [
            "Epoch 1/10\n"
          ]
        },
        {
          "output_type": "stream",
          "name": "stderr",
          "text": [
            "/usr/local/lib/python3.9/dist-packages/tensorflow/python/data/ops/structured_function.py:254: UserWarning: Even though the `tf.config.experimental_run_functions_eagerly` option is set, this option does not apply to tf.data functions. To force eager execution of tf.data functions, please use `tf.data.experimental.enable_debug_mode()`.\n",
            "  warnings.warn(\n"
          ]
        },
        {
          "output_type": "stream",
          "name": "stdout",
          "text": [
            "4/4 [==============================] - 15s 1s/step - loss: 1.0933 - accuracy: 0.4380 - val_loss: 1.0743 - val_accuracy: 0.4194\n",
            "Epoch 2/10\n",
            "4/4 [==============================] - 1s 328ms/step - loss: 0.9456 - accuracy: 0.5372 - val_loss: 1.0882 - val_accuracy: 0.4194\n",
            "Epoch 3/10\n",
            "4/4 [==============================] - 1s 307ms/step - loss: 0.9200 - accuracy: 0.5537 - val_loss: 1.0807 - val_accuracy: 0.4194\n",
            "Epoch 4/10\n",
            "4/4 [==============================] - 1s 274ms/step - loss: 0.9143 - accuracy: 0.5620 - val_loss: 1.0664 - val_accuracy: 0.4194\n",
            "Epoch 5/10\n",
            "4/4 [==============================] - 1s 277ms/step - loss: 0.9143 - accuracy: 0.5372 - val_loss: 1.0536 - val_accuracy: 0.4194\n",
            "Epoch 6/10\n",
            "4/4 [==============================] - 1s 276ms/step - loss: 0.9284 - accuracy: 0.5620 - val_loss: 1.0392 - val_accuracy: 0.4194\n",
            "Epoch 7/10\n",
            "4/4 [==============================] - 1s 315ms/step - loss: 0.9052 - accuracy: 0.5289 - val_loss: 1.0198 - val_accuracy: 0.4194\n",
            "Epoch 8/10\n",
            "4/4 [==============================] - 1s 315ms/step - loss: 0.9098 - accuracy: 0.5124 - val_loss: 1.0201 - val_accuracy: 0.4194\n",
            "Epoch 9/10\n",
            "4/4 [==============================] - 1s 317ms/step - loss: 0.8837 - accuracy: 0.5702 - val_loss: 1.0188 - val_accuracy: 0.4194\n",
            "Epoch 10/10\n",
            "4/4 [==============================] - 1s 280ms/step - loss: 0.8983 - accuracy: 0.5702 - val_loss: 1.0276 - val_accuracy: 0.4194\n"
          ]
        },
        {
          "output_type": "execute_result",
          "data": {
            "text/plain": [
              "<keras.callbacks.History at 0x7f1f2c94ac70>"
            ]
          },
          "metadata": {},
          "execution_count": 57
        }
      ]
    },
    {
      "cell_type": "markdown",
      "source": [
        "Occupant 2"
      ],
      "metadata": {
        "id": "re4Do4ftlCEi"
      }
    },
    {
      "cell_type": "code",
      "source": [
        "model.fit(x=x_train , y=y_train, validation_data=(x_test, y_test), epochs=10)"
      ],
      "metadata": {
        "colab": {
          "base_uri": "https://localhost:8080/"
        },
        "id": "Jnh_qZa4lDpN",
        "outputId": "791e3e6f-c1c5-4ef4-9b23-ce5cc3d4c397"
      },
      "execution_count": null,
      "outputs": [
        {
          "output_type": "stream",
          "name": "stdout",
          "text": [
            "Epoch 1/10\n"
          ]
        },
        {
          "output_type": "stream",
          "name": "stderr",
          "text": [
            "/usr/local/lib/python3.10/dist-packages/tensorflow/python/data/ops/structured_function.py:254: UserWarning: Even though the `tf.config.experimental_run_functions_eagerly` option is set, this option does not apply to tf.data functions. To force eager execution of tf.data functions, please use `tf.data.experimental.enable_debug_mode()`.\n",
            "  warnings.warn(\n"
          ]
        },
        {
          "output_type": "stream",
          "name": "stdout",
          "text": [
            "7/7 [==============================] - 16s 729ms/step - loss: 1.0931 - accuracy: 0.4752 - val_loss: 1.0381 - val_accuracy: 0.6667\n",
            "Epoch 2/10\n",
            "7/7 [==============================] - 3s 472ms/step - loss: 0.9979 - accuracy: 0.5248 - val_loss: 1.0266 - val_accuracy: 0.6863\n",
            "Epoch 3/10\n",
            "7/7 [==============================] - 3s 444ms/step - loss: 0.9563 - accuracy: 0.5198 - val_loss: 1.0200 - val_accuracy: 0.5882\n",
            "Epoch 4/10\n",
            "7/7 [==============================] - 3s 462ms/step - loss: 0.9648 - accuracy: 0.5198 - val_loss: 0.9050 - val_accuracy: 0.6667\n",
            "Epoch 5/10\n",
            "7/7 [==============================] - 3s 450ms/step - loss: 0.9352 - accuracy: 0.5495 - val_loss: 0.9077 - val_accuracy: 0.6471\n",
            "Epoch 6/10\n",
            "7/7 [==============================] - 3s 420ms/step - loss: 0.9437 - accuracy: 0.5000 - val_loss: 0.8410 - val_accuracy: 0.6667\n",
            "Epoch 7/10\n",
            "7/7 [==============================] - 3s 420ms/step - loss: 0.9500 - accuracy: 0.5396 - val_loss: 0.8585 - val_accuracy: 0.6471\n",
            "Epoch 8/10\n",
            "7/7 [==============================] - 3s 419ms/step - loss: 0.9337 - accuracy: 0.5594 - val_loss: 0.8284 - val_accuracy: 0.6667\n",
            "Epoch 9/10\n",
            "7/7 [==============================] - 3s 440ms/step - loss: 0.9218 - accuracy: 0.5347 - val_loss: 0.8496 - val_accuracy: 0.6275\n",
            "Epoch 10/10\n",
            "7/7 [==============================] - 3s 398ms/step - loss: 0.9330 - accuracy: 0.5446 - val_loss: 0.8496 - val_accuracy: 0.6471\n"
          ]
        },
        {
          "output_type": "execute_result",
          "data": {
            "text/plain": [
              "<keras.callbacks.History at 0x7f12c878d480>"
            ]
          },
          "metadata": {},
          "execution_count": 49
        }
      ]
    },
    {
      "cell_type": "markdown",
      "source": [
        "Occupant 6"
      ],
      "metadata": {
        "id": "suZ2veIUlICL"
      }
    },
    {
      "cell_type": "code",
      "source": [
        "model.fit(x=x_train , y=y_train, validation_data=(x_test, y_test), epochs=10)"
      ],
      "metadata": {
        "colab": {
          "base_uri": "https://localhost:8080/"
        },
        "id": "H__I2U4MlLud",
        "outputId": "6aa6771c-68da-488c-b701-a1c805d24662"
      },
      "execution_count": null,
      "outputs": [
        {
          "output_type": "stream",
          "name": "stdout",
          "text": [
            "Epoch 1/10\n"
          ]
        },
        {
          "output_type": "stream",
          "name": "stderr",
          "text": [
            "/usr/local/lib/python3.10/dist-packages/tensorflow/python/data/ops/structured_function.py:254: UserWarning: Even though the `tf.config.experimental_run_functions_eagerly` option is set, this option does not apply to tf.data functions. To force eager execution of tf.data functions, please use `tf.data.experimental.enable_debug_mode()`.\n",
            "  warnings.warn(\n"
          ]
        },
        {
          "output_type": "stream",
          "name": "stdout",
          "text": [
            "7/7 [==============================] - 4s 296ms/step - loss: 1.1928 - accuracy: 0.4560 - val_loss: 1.1183 - val_accuracy: 0.2653\n",
            "Epoch 2/10\n",
            "7/7 [==============================] - 1s 190ms/step - loss: 1.0856 - accuracy: 0.4611 - val_loss: 1.0482 - val_accuracy: 0.5510\n",
            "Epoch 3/10\n",
            "7/7 [==============================] - 1s 201ms/step - loss: 1.0501 - accuracy: 0.4767 - val_loss: 1.0673 - val_accuracy: 0.4694\n",
            "Epoch 4/10\n",
            "7/7 [==============================] - 1s 188ms/step - loss: 1.0583 - accuracy: 0.5078 - val_loss: 1.0274 - val_accuracy: 0.5306\n",
            "Epoch 5/10\n",
            "7/7 [==============================] - 1s 177ms/step - loss: 1.0589 - accuracy: 0.5130 - val_loss: 1.0027 - val_accuracy: 0.5510\n",
            "Epoch 6/10\n",
            "7/7 [==============================] - 1s 176ms/step - loss: 1.0512 - accuracy: 0.5078 - val_loss: 0.9945 - val_accuracy: 0.5510\n",
            "Epoch 7/10\n",
            "7/7 [==============================] - 1s 188ms/step - loss: 1.0268 - accuracy: 0.4870 - val_loss: 0.9935 - val_accuracy: 0.5510\n",
            "Epoch 8/10\n",
            "7/7 [==============================] - 1s 189ms/step - loss: 1.0334 - accuracy: 0.5078 - val_loss: 0.9919 - val_accuracy: 0.5510\n",
            "Epoch 9/10\n",
            "7/7 [==============================] - 1s 175ms/step - loss: 1.0360 - accuracy: 0.5130 - val_loss: 1.0078 - val_accuracy: 0.5510\n",
            "Epoch 10/10\n",
            "7/7 [==============================] - 1s 186ms/step - loss: 1.0339 - accuracy: 0.4819 - val_loss: 1.0099 - val_accuracy: 0.5510\n"
          ]
        },
        {
          "output_type": "execute_result",
          "data": {
            "text/plain": [
              "<keras.callbacks.History at 0x7f12d3b17d30>"
            ]
          },
          "metadata": {},
          "execution_count": 90
        }
      ]
    },
    {
      "cell_type": "markdown",
      "source": [
        "Occupant 8"
      ],
      "metadata": {
        "id": "l_0m4LIBlJKv"
      }
    },
    {
      "cell_type": "code",
      "source": [
        "model.fit(x=x_train , y=y_train, validation_data=(x_test, y_test), epochs=10)"
      ],
      "metadata": {
        "colab": {
          "base_uri": "https://localhost:8080/"
        },
        "id": "25ZgaI4nlMSt",
        "outputId": "cf7b72c1-af38-4628-c2f7-b9a6b23b281a"
      },
      "execution_count": null,
      "outputs": [
        {
          "output_type": "stream",
          "name": "stdout",
          "text": [
            "Epoch 1/10\n"
          ]
        },
        {
          "output_type": "stream",
          "name": "stderr",
          "text": [
            "/usr/local/lib/python3.10/dist-packages/tensorflow/python/data/ops/structured_function.py:254: UserWarning: Even though the `tf.config.experimental_run_functions_eagerly` option is set, this option does not apply to tf.data functions. To force eager execution of tf.data functions, please use `tf.data.experimental.enable_debug_mode()`.\n",
            "  warnings.warn(\n"
          ]
        },
        {
          "output_type": "stream",
          "name": "stdout",
          "text": [
            "9/9 [==============================] - 12s 939ms/step - loss: 0.7001 - accuracy: 0.7730 - val_loss: 0.9558 - val_accuracy: 0.8310\n",
            "Epoch 2/10\n",
            "9/9 [==============================] - 4s 491ms/step - loss: 0.4809 - accuracy: 0.8723 - val_loss: 0.9084 - val_accuracy: 0.8028\n",
            "Epoch 3/10\n",
            "9/9 [==============================] - 5s 542ms/step - loss: 0.4659 - accuracy: 0.8688 - val_loss: 0.8111 - val_accuracy: 0.8310\n",
            "Epoch 4/10\n",
            "9/9 [==============================] - 4s 481ms/step - loss: 0.4652 - accuracy: 0.8652 - val_loss: 0.7358 - val_accuracy: 0.8310\n",
            "Epoch 5/10\n",
            "9/9 [==============================] - 4s 476ms/step - loss: 0.4530 - accuracy: 0.8794 - val_loss: 0.6603 - val_accuracy: 0.8310\n",
            "Epoch 6/10\n",
            "9/9 [==============================] - 5s 516ms/step - loss: 0.4603 - accuracy: 0.8723 - val_loss: 0.6374 - val_accuracy: 0.8310\n",
            "Epoch 7/10\n",
            "9/9 [==============================] - 4s 475ms/step - loss: 0.4486 - accuracy: 0.8759 - val_loss: 0.6143 - val_accuracy: 0.8310\n",
            "Epoch 8/10\n",
            "9/9 [==============================] - 4s 482ms/step - loss: 0.4483 - accuracy: 0.8652 - val_loss: 0.6095 - val_accuracy: 0.8310\n",
            "Epoch 9/10\n",
            "9/9 [==============================] - 4s 468ms/step - loss: 0.4465 - accuracy: 0.8723 - val_loss: 0.6256 - val_accuracy: 0.8310\n",
            "Epoch 10/10\n",
            "9/9 [==============================] - 4s 463ms/step - loss: 0.4386 - accuracy: 0.8723 - val_loss: 0.6218 - val_accuracy: 0.8310\n"
          ]
        },
        {
          "output_type": "execute_result",
          "data": {
            "text/plain": [
              "<keras.callbacks.History at 0x7f12d3037100>"
            ]
          },
          "metadata": {},
          "execution_count": 132
        }
      ]
    },
    {
      "cell_type": "markdown",
      "source": [
        "Occupant 10"
      ],
      "metadata": {
        "id": "fL0jDe6clKZi"
      }
    },
    {
      "cell_type": "code",
      "source": [
        "model.fit(x=x_train , y=y_train, validation_data=(x_test, y_test), epochs=10)"
      ],
      "metadata": {
        "colab": {
          "base_uri": "https://localhost:8080/"
        },
        "id": "k_LJozHYlM6C",
        "outputId": "39f389b4-670b-4fe4-91ae-19776a298746"
      },
      "execution_count": null,
      "outputs": [
        {
          "output_type": "stream",
          "name": "stdout",
          "text": [
            "Epoch 1/10\n"
          ]
        },
        {
          "output_type": "stream",
          "name": "stderr",
          "text": [
            "/usr/local/lib/python3.10/dist-packages/tensorflow/python/data/ops/structured_function.py:254: UserWarning: Even though the `tf.config.experimental_run_functions_eagerly` option is set, this option does not apply to tf.data functions. To force eager execution of tf.data functions, please use `tf.data.experimental.enable_debug_mode()`.\n",
            "  warnings.warn(\n"
          ]
        },
        {
          "output_type": "stream",
          "name": "stdout",
          "text": [
            "7/7 [==============================] - 16s 830ms/step - loss: 1.0834 - accuracy: 0.4412 - val_loss: 1.0288 - val_accuracy: 0.6731\n",
            "Epoch 2/10\n",
            "7/7 [==============================] - 3s 366ms/step - loss: 1.0079 - accuracy: 0.5882 - val_loss: 1.0456 - val_accuracy: 0.6538\n",
            "Epoch 3/10\n",
            "7/7 [==============================] - 3s 369ms/step - loss: 0.9747 - accuracy: 0.5784 - val_loss: 0.9856 - val_accuracy: 0.6538\n",
            "Epoch 4/10\n",
            "7/7 [==============================] - 2s 349ms/step - loss: 0.9475 - accuracy: 0.5686 - val_loss: 0.9732 - val_accuracy: 0.6538\n",
            "Epoch 5/10\n",
            "7/7 [==============================] - 3s 389ms/step - loss: 0.9286 - accuracy: 0.6078 - val_loss: 0.9452 - val_accuracy: 0.6923\n",
            "Epoch 6/10\n",
            "7/7 [==============================] - 3s 378ms/step - loss: 0.9085 - accuracy: 0.6078 - val_loss: 0.9083 - val_accuracy: 0.6923\n",
            "Epoch 7/10\n",
            "7/7 [==============================] - 2s 347ms/step - loss: 0.9131 - accuracy: 0.5784 - val_loss: 0.8495 - val_accuracy: 0.6923\n",
            "Epoch 8/10\n",
            "7/7 [==============================] - 2s 351ms/step - loss: 0.9466 - accuracy: 0.5882 - val_loss: 0.8426 - val_accuracy: 0.6923\n",
            "Epoch 9/10\n",
            "7/7 [==============================] - 3s 373ms/step - loss: 0.8969 - accuracy: 0.5833 - val_loss: 0.8519 - val_accuracy: 0.6923\n",
            "Epoch 10/10\n",
            "7/7 [==============================] - 3s 387ms/step - loss: 0.9180 - accuracy: 0.6176 - val_loss: 0.8060 - val_accuracy: 0.6923\n"
          ]
        },
        {
          "output_type": "execute_result",
          "data": {
            "text/plain": [
              "<keras.callbacks.History at 0x7fe2ca4d6b00>"
            ]
          },
          "metadata": {},
          "execution_count": 50
        }
      ]
    },
    {
      "cell_type": "markdown",
      "source": [
        "**Occupant 11**"
      ],
      "metadata": {
        "id": "4N_l65MZ5xn0"
      }
    },
    {
      "cell_type": "code",
      "source": [
        "model.fit(x=x_train , y=y_train, validation_data=(x_test, y_test), epochs=10)"
      ],
      "metadata": {
        "colab": {
          "base_uri": "https://localhost:8080/"
        },
        "outputId": "60344c09-5601-4fa5-9d6d-3ffe6f20c5e7",
        "id": "DnQZ6Im55xoA"
      },
      "execution_count": null,
      "outputs": [
        {
          "output_type": "stream",
          "name": "stdout",
          "text": [
            "Epoch 1/10\n"
          ]
        },
        {
          "output_type": "stream",
          "name": "stderr",
          "text": [
            "/usr/local/lib/python3.10/dist-packages/tensorflow/python/data/ops/structured_function.py:254: UserWarning: Even though the `tf.config.experimental_run_functions_eagerly` option is set, this option does not apply to tf.data functions. To force eager execution of tf.data functions, please use `tf.data.experimental.enable_debug_mode()`.\n",
            "  warnings.warn(\n"
          ]
        },
        {
          "output_type": "stream",
          "name": "stdout",
          "text": [
            "10/10 [==============================] - 30s 2s/step - loss: 0.8805 - accuracy: 0.6458 - val_loss: 1.0089 - val_accuracy: 0.7250\n",
            "Epoch 2/10\n",
            "10/10 [==============================] - 8s 826ms/step - loss: 0.7236 - accuracy: 0.7555 - val_loss: 0.9645 - val_accuracy: 0.7250\n",
            "Epoch 3/10\n",
            "10/10 [==============================] - 8s 831ms/step - loss: 0.7062 - accuracy: 0.7618 - val_loss: 0.9043 - val_accuracy: 0.7250\n",
            "Epoch 4/10\n",
            "10/10 [==============================] - 8s 817ms/step - loss: 0.6976 - accuracy: 0.7649 - val_loss: 0.8789 - val_accuracy: 0.7250\n",
            "Epoch 5/10\n",
            "10/10 [==============================] - 8s 848ms/step - loss: 0.6989 - accuracy: 0.7586 - val_loss: 0.8332 - val_accuracy: 0.7250\n",
            "Epoch 6/10\n",
            "10/10 [==============================] - 9s 860ms/step - loss: 0.6874 - accuracy: 0.7649 - val_loss: 0.8271 - val_accuracy: 0.7125\n",
            "Epoch 7/10\n",
            "10/10 [==============================] - 8s 852ms/step - loss: 0.6888 - accuracy: 0.7649 - val_loss: 0.8288 - val_accuracy: 0.7125\n",
            "Epoch 8/10\n",
            "10/10 [==============================] - 8s 855ms/step - loss: 0.6844 - accuracy: 0.7712 - val_loss: 0.8247 - val_accuracy: 0.7250\n",
            "Epoch 9/10\n",
            "10/10 [==============================] - 8s 855ms/step - loss: 0.6806 - accuracy: 0.7618 - val_loss: 0.8210 - val_accuracy: 0.7250\n",
            "Epoch 10/10\n",
            "10/10 [==============================] - 8s 848ms/step - loss: 0.6855 - accuracy: 0.7743 - val_loss: 0.8186 - val_accuracy: 0.7250\n"
          ]
        },
        {
          "output_type": "execute_result",
          "data": {
            "text/plain": [
              "<keras.callbacks.History at 0x7f021a58b4f0>"
            ]
          },
          "metadata": {},
          "execution_count": 58
        }
      ]
    },
    {
      "cell_type": "markdown",
      "source": [
        "Occupant 12"
      ],
      "metadata": {
        "id": "JGCdiRxQnp9V"
      }
    },
    {
      "cell_type": "code",
      "source": [
        "model.fit(x=x_train , y=y_train, validation_data=(x_test, y_test), epochs=10)"
      ],
      "metadata": {
        "colab": {
          "base_uri": "https://localhost:8080/"
        },
        "id": "qsXGR8JsnsYg",
        "outputId": "6823ef35-a6ff-4aac-8c32-e8e5a401c0b3"
      },
      "execution_count": null,
      "outputs": [
        {
          "output_type": "stream",
          "name": "stdout",
          "text": [
            "Epoch 1/10\n"
          ]
        },
        {
          "output_type": "stream",
          "name": "stderr",
          "text": [
            "/usr/local/lib/python3.10/dist-packages/tensorflow/python/data/ops/structured_function.py:254: UserWarning: Even though the `tf.config.experimental_run_functions_eagerly` option is set, this option does not apply to tf.data functions. To force eager execution of tf.data functions, please use `tf.data.experimental.enable_debug_mode()`.\n",
            "  warnings.warn(\n"
          ]
        },
        {
          "output_type": "stream",
          "name": "stdout",
          "text": [
            "5/5 [==============================] - 3s 256ms/step - loss: 1.0772 - accuracy: 0.4733 - val_loss: 1.0442 - val_accuracy: 0.4242\n",
            "Epoch 2/10\n",
            "5/5 [==============================] - 1s 176ms/step - loss: 0.8903 - accuracy: 0.5878 - val_loss: 1.0372 - val_accuracy: 0.5758\n",
            "Epoch 3/10\n",
            "5/5 [==============================] - 1s 214ms/step - loss: 0.7881 - accuracy: 0.6336 - val_loss: 1.0220 - val_accuracy: 0.4848\n",
            "Epoch 4/10\n",
            "5/5 [==============================] - 1s 212ms/step - loss: 0.7974 - accuracy: 0.5802 - val_loss: 0.9755 - val_accuracy: 0.5758\n",
            "Epoch 5/10\n",
            "5/5 [==============================] - 1s 210ms/step - loss: 0.8061 - accuracy: 0.5802 - val_loss: 0.9375 - val_accuracy: 0.5758\n",
            "Epoch 6/10\n",
            "5/5 [==============================] - 1s 199ms/step - loss: 0.7734 - accuracy: 0.6260 - val_loss: 0.9188 - val_accuracy: 0.5455\n",
            "Epoch 7/10\n",
            "5/5 [==============================] - 1s 178ms/step - loss: 0.7473 - accuracy: 0.6260 - val_loss: 0.8986 - val_accuracy: 0.5455\n",
            "Epoch 8/10\n",
            "5/5 [==============================] - 1s 177ms/step - loss: 0.7595 - accuracy: 0.6336 - val_loss: 0.8587 - val_accuracy: 0.5455\n",
            "Epoch 9/10\n",
            "5/5 [==============================] - 1s 181ms/step - loss: 0.7493 - accuracy: 0.5802 - val_loss: 0.8552 - val_accuracy: 0.5455\n",
            "Epoch 10/10\n",
            "5/5 [==============================] - 1s 195ms/step - loss: 0.7381 - accuracy: 0.6183 - val_loss: 0.8520 - val_accuracy: 0.5455\n"
          ]
        },
        {
          "output_type": "execute_result",
          "data": {
            "text/plain": [
              "<keras.callbacks.History at 0x7fe3446f0e80>"
            ]
          },
          "metadata": {},
          "execution_count": 92
        }
      ]
    },
    {
      "cell_type": "markdown",
      "source": [
        "Occupant 14"
      ],
      "metadata": {
        "id": "DYXQ2-dZnsnw"
      }
    },
    {
      "cell_type": "code",
      "source": [
        "model.fit(x=x_train , y=y_train, validation_data=(x_test, y_test), epochs=10)"
      ],
      "metadata": {
        "colab": {
          "base_uri": "https://localhost:8080/"
        },
        "id": "UnBDWQKynuPg",
        "outputId": "d3b0c0d0-61af-4770-fc3a-b63ff24ae471"
      },
      "execution_count": null,
      "outputs": [
        {
          "output_type": "stream",
          "name": "stdout",
          "text": [
            "Epoch 1/10\n"
          ]
        },
        {
          "output_type": "stream",
          "name": "stderr",
          "text": [
            "/usr/local/lib/python3.10/dist-packages/tensorflow/python/data/ops/structured_function.py:254: UserWarning: Even though the `tf.config.experimental_run_functions_eagerly` option is set, this option does not apply to tf.data functions. To force eager execution of tf.data functions, please use `tf.data.experimental.enable_debug_mode()`.\n",
            "  warnings.warn(\n"
          ]
        },
        {
          "output_type": "stream",
          "name": "stdout",
          "text": [
            "9/9 [==============================] - 11s 671ms/step - loss: 0.8638 - accuracy: 0.6576 - val_loss: 0.9967 - val_accuracy: 0.8154\n",
            "Epoch 2/10\n",
            "9/9 [==============================] - 5s 608ms/step - loss: 0.6380 - accuracy: 0.8054 - val_loss: 0.8616 - val_accuracy: 0.8923\n",
            "Epoch 3/10\n",
            "9/9 [==============================] - 6s 644ms/step - loss: 0.6318 - accuracy: 0.7899 - val_loss: 0.7212 - val_accuracy: 0.9077\n",
            "Epoch 4/10\n",
            "9/9 [==============================] - 6s 642ms/step - loss: 0.6136 - accuracy: 0.7938 - val_loss: 0.6449 - val_accuracy: 0.9077\n",
            "Epoch 5/10\n",
            "9/9 [==============================] - 6s 659ms/step - loss: 0.6014 - accuracy: 0.7938 - val_loss: 0.5461 - val_accuracy: 0.9077\n",
            "Epoch 6/10\n",
            "9/9 [==============================] - 6s 650ms/step - loss: 0.6103 - accuracy: 0.7977 - val_loss: 0.5207 - val_accuracy: 0.9077\n",
            "Epoch 7/10\n",
            "9/9 [==============================] - 6s 617ms/step - loss: 0.5931 - accuracy: 0.7938 - val_loss: 0.4489 - val_accuracy: 0.9077\n",
            "Epoch 8/10\n",
            "9/9 [==============================] - 6s 655ms/step - loss: 0.5979 - accuracy: 0.7938 - val_loss: 0.4531 - val_accuracy: 0.9077\n",
            "Epoch 9/10\n",
            "9/9 [==============================] - 6s 653ms/step - loss: 0.5774 - accuracy: 0.8016 - val_loss: 0.4185 - val_accuracy: 0.9077\n",
            "Epoch 10/10\n",
            "9/9 [==============================] - 6s 651ms/step - loss: 0.5853 - accuracy: 0.7977 - val_loss: 0.3640 - val_accuracy: 0.9077\n"
          ]
        },
        {
          "output_type": "execute_result",
          "data": {
            "text/plain": [
              "<keras.callbacks.History at 0x7fe343d4bdc0>"
            ]
          },
          "metadata": {},
          "execution_count": 132
        }
      ]
    }
  ]
}